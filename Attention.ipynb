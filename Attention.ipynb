{
  "cells": [
    {
      "cell_type": "markdown",
      "metadata": {
        "id": "ycFKHnvUpjXo"
      },
      "source": [
        "# Mount Gdrive"
      ]
    },
    {
      "cell_type": "code",
      "execution_count": 1,
      "metadata": {
        "colab": {
          "base_uri": "https://localhost:8080/",
          "height": 0
        },
        "execution": {
          "iopub.execute_input": "2024-05-05T03:30:33.626280Z",
          "iopub.status.busy": "2024-05-05T03:30:33.625529Z",
          "iopub.status.idle": "2024-05-05T03:30:33.630068Z",
          "shell.execute_reply": "2024-05-05T03:30:33.629135Z",
          "shell.execute_reply.started": "2024-05-05T03:30:33.626249Z"
        },
        "id": "-R3PBLjkpf1X",
        "outputId": "89a09cd6-5563-4ed6-e5ec-4cbeda3b798d",
        "trusted": true
      },
      "outputs": [
        {
          "name": "stdout",
          "output_type": "stream",
          "text": [
            "Mounted at /content/drive\n"
          ]
        }
      ],
      "source": [
        "from google.colab import files\n",
        "from google.colab import drive\n",
        "drive.mount('/content/drive')"
      ]
    },
    {
      "cell_type": "code",
      "execution_count": 2,
      "metadata": {
        "colab": {
          "base_uri": "https://localhost:8080/",
          "height": 0
        },
        "execution": {
          "iopub.execute_input": "2024-05-05T03:30:33.872428Z",
          "iopub.status.busy": "2024-05-05T03:30:33.871700Z",
          "iopub.status.idle": "2024-05-05T03:30:46.896436Z",
          "shell.execute_reply": "2024-05-05T03:30:46.895425Z",
          "shell.execute_reply.started": "2024-05-05T03:30:33.872396Z"
        },
        "id": "JGOTcc5wyJA-",
        "outputId": "bb905a57-c282-484f-ed96-0a8cd9e52fa5",
        "trusted": true
      },
      "outputs": [
        {
          "name": "stdout",
          "output_type": "stream",
          "text": [
            "Collecting wandb\n",
            "  Downloading wandb-0.16.6-py3-none-any.whl (2.2 MB)\n",
            "\u001b[2K     \u001b[90m━━━━━━━━━━━━━━━━━━━━━━━━━━━━━━━━━━━━━━━━\u001b[0m \u001b[32m2.2/2.2 MB\u001b[0m \u001b[31m6.1 MB/s\u001b[0m eta \u001b[36m0:00:00\u001b[0m\n",
            "\u001b[?25hRequirement already satisfied: Click!=8.0.0,>=7.1 in /usr/local/lib/python3.10/dist-packages (from wandb) (8.1.7)\n",
            "Collecting GitPython!=3.1.29,>=1.0.0 (from wandb)\n",
            "  Downloading GitPython-3.1.43-py3-none-any.whl (207 kB)\n",
            "\u001b[2K     \u001b[90m━━━━━━━━━━━━━━━━━━━━━━━━━━━━━━━━━━━━━━━━\u001b[0m \u001b[32m207.3/207.3 kB\u001b[0m \u001b[31m14.3 MB/s\u001b[0m eta \u001b[36m0:00:00\u001b[0m\n",
            "\u001b[?25hRequirement already satisfied: requests<3,>=2.0.0 in /usr/local/lib/python3.10/dist-packages (from wandb) (2.31.0)\n",
            "Requirement already satisfied: psutil>=5.0.0 in /usr/local/lib/python3.10/dist-packages (from wandb) (5.9.5)\n",
            "Collecting sentry-sdk>=1.0.0 (from wandb)\n",
            "  Downloading sentry_sdk-2.1.1-py2.py3-none-any.whl (277 kB)\n",
            "\u001b[2K     \u001b[90m━━━━━━━━━━━━━━━━━━━━━━━━━━━━━━━━━━━━━━━━\u001b[0m \u001b[32m277.3/277.3 kB\u001b[0m \u001b[31m10.8 MB/s\u001b[0m eta \u001b[36m0:00:00\u001b[0m\n",
            "\u001b[?25hCollecting docker-pycreds>=0.4.0 (from wandb)\n",
            "  Downloading docker_pycreds-0.4.0-py2.py3-none-any.whl (9.0 kB)\n",
            "Requirement already satisfied: PyYAML in /usr/local/lib/python3.10/dist-packages (from wandb) (6.0.1)\n",
            "Collecting setproctitle (from wandb)\n",
            "  Downloading setproctitle-1.3.3-cp310-cp310-manylinux_2_5_x86_64.manylinux1_x86_64.manylinux_2_17_x86_64.manylinux2014_x86_64.whl (30 kB)\n",
            "Requirement already satisfied: setuptools in /usr/local/lib/python3.10/dist-packages (from wandb) (67.7.2)\n",
            "Requirement already satisfied: appdirs>=1.4.3 in /usr/local/lib/python3.10/dist-packages (from wandb) (1.4.4)\n",
            "Requirement already satisfied: protobuf!=4.21.0,<5,>=3.19.0 in /usr/local/lib/python3.10/dist-packages (from wandb) (3.20.3)\n",
            "Requirement already satisfied: six>=1.4.0 in /usr/local/lib/python3.10/dist-packages (from docker-pycreds>=0.4.0->wandb) (1.16.0)\n",
            "Collecting gitdb<5,>=4.0.1 (from GitPython!=3.1.29,>=1.0.0->wandb)\n",
            "  Downloading gitdb-4.0.11-py3-none-any.whl (62 kB)\n",
            "\u001b[2K     \u001b[90m━━━━━━━━━━━━━━━━━━━━━━━━━━━━━━━━━━━━━━━━\u001b[0m \u001b[32m62.7/62.7 kB\u001b[0m \u001b[31m8.1 MB/s\u001b[0m eta \u001b[36m0:00:00\u001b[0m\n",
            "\u001b[?25hRequirement already satisfied: charset-normalizer<4,>=2 in /usr/local/lib/python3.10/dist-packages (from requests<3,>=2.0.0->wandb) (3.3.2)\n",
            "Requirement already satisfied: idna<4,>=2.5 in /usr/local/lib/python3.10/dist-packages (from requests<3,>=2.0.0->wandb) (3.7)\n",
            "Requirement already satisfied: urllib3<3,>=1.21.1 in /usr/local/lib/python3.10/dist-packages (from requests<3,>=2.0.0->wandb) (2.0.7)\n",
            "Requirement already satisfied: certifi>=2017.4.17 in /usr/local/lib/python3.10/dist-packages (from requests<3,>=2.0.0->wandb) (2024.2.2)\n",
            "Collecting smmap<6,>=3.0.1 (from gitdb<5,>=4.0.1->GitPython!=3.1.29,>=1.0.0->wandb)\n",
            "  Downloading smmap-5.0.1-py3-none-any.whl (24 kB)\n",
            "Installing collected packages: smmap, setproctitle, sentry-sdk, docker-pycreds, gitdb, GitPython, wandb\n",
            "Successfully installed GitPython-3.1.43 docker-pycreds-0.4.0 gitdb-4.0.11 sentry-sdk-2.1.1 setproctitle-1.3.3 smmap-5.0.1 wandb-0.16.6\n"
          ]
        }
      ],
      "source": [
        "!pip install wandb"
      ]
    },
    {
      "cell_type": "code",
      "execution_count": 3,
      "metadata": {
        "colab": {
          "base_uri": "https://localhost:8080/",
          "height": 0
        },
        "execution": {
          "iopub.execute_input": "2024-05-05T03:30:46.899598Z",
          "iopub.status.busy": "2024-05-05T03:30:46.898840Z",
          "iopub.status.idle": "2024-05-05T03:30:46.984429Z",
          "shell.execute_reply": "2024-05-05T03:30:46.983512Z",
          "shell.execute_reply.started": "2024-05-05T03:30:46.899559Z"
        },
        "id": "t72ZPROsyJrt",
        "outputId": "447bca3d-f3f9-4f3d-d3f2-bd5f2632ec69",
        "trusted": true
      },
      "outputs": [
        {
          "name": "stderr",
          "output_type": "stream",
          "text": [
            "\u001b[34m\u001b[1mwandb\u001b[0m: W&B API key is configured. Use \u001b[1m`wandb login --relogin`\u001b[0m to force relogin\n",
            "\u001b[34m\u001b[1mwandb\u001b[0m: \u001b[33mWARNING\u001b[0m If you're specifying your api key in code, ensure this code is not shared publicly.\n",
            "\u001b[34m\u001b[1mwandb\u001b[0m: \u001b[33mWARNING\u001b[0m Consider setting the WANDB_API_KEY environment variable, or running `wandb login` from the command line.\n",
            "\u001b[34m\u001b[1mwandb\u001b[0m: Appending key for api.wandb.ai to your netrc file: /root/.netrc\n"
          ]
        },
        {
          "data": {
            "text/plain": [
              "True"
            ]
          },
          "execution_count": 3,
          "metadata": {},
          "output_type": "execute_result"
        }
      ],
      "source": [
        "import wandb\n",
        "wandb.login(key='5157ae11e5d243722bc57912a56718dc8ef2f734') #Wandb login with my key\n",
        "# 5157ae11e5d243722bc57912a56718dc8ef2f734"
      ]
    },
    {
      "cell_type": "markdown",
      "metadata": {
        "id": "zN3UGNk9pcKA"
      },
      "source": [
        "# Libraries"
      ]
    },
    {
      "cell_type": "code",
      "execution_count": 4,
      "metadata": {
        "execution": {
          "iopub.execute_input": "2024-05-05T03:30:46.985870Z",
          "iopub.status.busy": "2024-05-05T03:30:46.985573Z",
          "iopub.status.idle": "2024-05-05T03:30:46.991384Z",
          "shell.execute_reply": "2024-05-05T03:30:46.990487Z",
          "shell.execute_reply.started": "2024-05-05T03:30:46.985847Z"
        },
        "id": "HWuEVwxzp7RN",
        "trusted": true
      },
      "outputs": [],
      "source": [
        "import torch\n",
        "import torch.nn as nn\n",
        "import random\n",
        "import pandas as pd\n",
        "import numpy as np\n",
        "import torch.nn.functional as F\n",
        "import matplotlib.pyplot as plt\n",
        "import os\n",
        "import glob\n",
        "import re\n",
        "import unicodedata\n",
        "import string\n",
        "import copy"
      ]
    },
    {
      "cell_type": "code",
      "execution_count": 5,
      "metadata": {
        "execution": {
          "iopub.execute_input": "2024-05-05T03:30:46.994557Z",
          "iopub.status.busy": "2024-05-05T03:30:46.994000Z",
          "iopub.status.idle": "2024-05-05T03:30:47.000318Z",
          "shell.execute_reply": "2024-05-05T03:30:46.999618Z",
          "shell.execute_reply.started": "2024-05-05T03:30:46.994524Z"
        },
        "id": "tMpYfXaFYmni",
        "trusted": true
      },
      "outputs": [],
      "source": [
        "from __future__ import unicode_literals, print_function, division\n",
        "from io import open\n",
        "from torch import optim\n",
        "from torch.utils.data import DataLoader,Dataset\n",
        "path = '/content/drive/MyDrive/DL/A3_Data/aksharantar_sampled/hin'"
      ]
    },
    {
      "cell_type": "markdown",
      "metadata": {
        "id": "moRNj0BQpy4q"
      },
      "source": [
        "# Check for GPU"
      ]
    },
    {
      "cell_type": "code",
      "execution_count": 6,
      "metadata": {
        "colab": {
          "base_uri": "https://localhost:8080/",
          "height": 0
        },
        "execution": {
          "iopub.execute_input": "2024-05-05T03:30:47.001934Z",
          "iopub.status.busy": "2024-05-05T03:30:47.001626Z",
          "iopub.status.idle": "2024-05-05T03:30:47.012198Z",
          "shell.execute_reply": "2024-05-05T03:30:47.011368Z",
          "shell.execute_reply.started": "2024-05-05T03:30:47.001910Z"
        },
        "id": "MPSuUeiJtXpO",
        "outputId": "f2793f72-9707-4b21-bc0f-6eaafd99a834",
        "trusted": true
      },
      "outputs": [
        {
          "name": "stdout",
          "output_type": "stream",
          "text": [
            "cuda\n"
          ]
        }
      ],
      "source": [
        "device = torch.device(\"cuda\" if torch.cuda.is_available() else \"cpu\")\n",
        "print(device)"
      ]
    },
    {
      "cell_type": "markdown",
      "metadata": {
        "id": "LeCpEPARiGue"
      },
      "source": [
        "# Data Load"
      ]
    },
    {
      "cell_type": "code",
      "execution_count": 7,
      "metadata": {
        "colab": {
          "base_uri": "https://localhost:8080/",
          "height": 0
        },
        "execution": {
          "iopub.execute_input": "2024-05-05T03:30:47.013472Z",
          "iopub.status.busy": "2024-05-05T03:30:47.013172Z",
          "iopub.status.idle": "2024-05-05T03:30:47.027273Z",
          "shell.execute_reply": "2024-05-05T03:30:47.026493Z",
          "shell.execute_reply.started": "2024-05-05T03:30:47.013433Z"
        },
        "id": "cum-SiSkqNUs",
        "outputId": "827351f4-1589-4018-ffa9-b28d3c5a01da",
        "trusted": true
      },
      "outputs": [
        {
          "name": "stdout",
          "output_type": "stream",
          "text": [
            "['/content/drive/MyDrive/DL/A3_Data/aksharantar_sampled/hin/hin_test.csv', '/content/drive/MyDrive/DL/A3_Data/aksharantar_sampled/hin/hin_train.csv', '/content/drive/MyDrive/DL/A3_Data/aksharantar_sampled/hin/hin_valid.csv']\n"
          ]
        }
      ],
      "source": [
        "csv_files = glob.glob(os.path.join(path, \"*.csv\"))\n",
        "# Sort the list of CSV file paths alphabetically\n",
        "csv_files = sorted(csv_files)\n",
        "print(csv_files)"
      ]
    },
    {
      "cell_type": "code",
      "execution_count": 8,
      "metadata": {
        "colab": {
          "base_uri": "https://localhost:8080/",
          "height": 423
        },
        "execution": {
          "iopub.execute_input": "2024-05-05T03:30:47.029165Z",
          "iopub.status.busy": "2024-05-05T03:30:47.028855Z",
          "iopub.status.idle": "2024-05-05T03:30:47.142999Z",
          "shell.execute_reply": "2024-05-05T03:30:47.141978Z",
          "shell.execute_reply.started": "2024-05-05T03:30:47.029134Z"
        },
        "id": "ayBGC6kkug2r",
        "outputId": "43942a85-382a-4f4d-94a2-dfdaa2949615",
        "trusted": true
      },
      "outputs": [
        {
          "data": {
            "application/vnd.google.colaboratory.intrinsic+json": {
              "summary": "{\n  \"name\": \"valid_data\",\n  \"rows\": 4095,\n  \"fields\": [\n    {\n      \"column\": \"jaisawal\",\n      \"properties\": {\n        \"dtype\": \"string\",\n        \"num_unique_values\": 4075,\n        \"samples\": [\n          \"yularvaad\",\n          \"ketubuddin\",\n          \"naraynasamy\"\n        ],\n        \"semantic_type\": \"\",\n        \"description\": \"\"\n      }\n    },\n    {\n      \"column\": \"\\u091c\\u092f\\u0938\\u0935\\u093e\\u0932\",\n      \"properties\": {\n        \"dtype\": \"string\",\n        \"num_unique_values\": 3245,\n        \"samples\": [\n          \"\\u092e\\u0948\\u0915\\u0932\\u0942\\u0939\\u093e\\u0928\",\n          \"\\u0915\\u0941\\u0930\\u093f\\u0928\\u094d\\u0925\\u093f\\u092f\\u094b\\u0902\",\n          \"\\u0924\\u0947\\u091c\\u0938\\u094d\\u0935\\u0940\"\n        ],\n        \"semantic_type\": \"\",\n        \"description\": \"\"\n      }\n    }\n  ]\n}",
              "type": "dataframe",
              "variable_name": "valid_data"
            },
            "text/html": [
              "\n",
              "  <div id=\"df-442bc906-e8a2-47b9-973e-2d69f6f88ba2\" class=\"colab-df-container\">\n",
              "    <div>\n",
              "<style scoped>\n",
              "    .dataframe tbody tr th:only-of-type {\n",
              "        vertical-align: middle;\n",
              "    }\n",
              "\n",
              "    .dataframe tbody tr th {\n",
              "        vertical-align: top;\n",
              "    }\n",
              "\n",
              "    .dataframe thead th {\n",
              "        text-align: right;\n",
              "    }\n",
              "</style>\n",
              "<table border=\"1\" class=\"dataframe\">\n",
              "  <thead>\n",
              "    <tr style=\"text-align: right;\">\n",
              "      <th></th>\n",
              "      <th>jaisawal</th>\n",
              "      <th>जयसवाल</th>\n",
              "    </tr>\n",
              "  </thead>\n",
              "  <tbody>\n",
              "    <tr>\n",
              "      <th>0</th>\n",
              "      <td>bajai</td>\n",
              "      <td>बजाई</td>\n",
              "    </tr>\n",
              "    <tr>\n",
              "      <th>1</th>\n",
              "      <td>sanghthan</td>\n",
              "      <td>संघठन</td>\n",
              "    </tr>\n",
              "    <tr>\n",
              "      <th>2</th>\n",
              "      <td>haiwaan</td>\n",
              "      <td>हैवान</td>\n",
              "    </tr>\n",
              "    <tr>\n",
              "      <th>3</th>\n",
              "      <td>nilgiri</td>\n",
              "      <td>नीलगिरि</td>\n",
              "    </tr>\n",
              "    <tr>\n",
              "      <th>4</th>\n",
              "      <td>drutgrami</td>\n",
              "      <td>द्रुतग्रामी</td>\n",
              "    </tr>\n",
              "    <tr>\n",
              "      <th>...</th>\n",
              "      <td>...</td>\n",
              "      <td>...</td>\n",
              "    </tr>\n",
              "    <tr>\n",
              "      <th>4090</th>\n",
              "      <td>paranshu</td>\n",
              "      <td>परांशु</td>\n",
              "    </tr>\n",
              "    <tr>\n",
              "      <th>4091</th>\n",
              "      <td>romanchit</td>\n",
              "      <td>रोमांचित</td>\n",
              "    </tr>\n",
              "    <tr>\n",
              "      <th>4092</th>\n",
              "      <td>ekamreshwar</td>\n",
              "      <td>एकाम्रेश्वर</td>\n",
              "    </tr>\n",
              "    <tr>\n",
              "      <th>4093</th>\n",
              "      <td>bluetooth</td>\n",
              "      <td>ब्ल्यूटूथ</td>\n",
              "    </tr>\n",
              "    <tr>\n",
              "      <th>4094</th>\n",
              "      <td>govindram</td>\n",
              "      <td>गोविंद्राम</td>\n",
              "    </tr>\n",
              "  </tbody>\n",
              "</table>\n",
              "<p>4095 rows × 2 columns</p>\n",
              "</div>\n",
              "    <div class=\"colab-df-buttons\">\n",
              "\n",
              "  <div class=\"colab-df-container\">\n",
              "    <button class=\"colab-df-convert\" onclick=\"convertToInteractive('df-442bc906-e8a2-47b9-973e-2d69f6f88ba2')\"\n",
              "            title=\"Convert this dataframe to an interactive table.\"\n",
              "            style=\"display:none;\">\n",
              "\n",
              "  <svg xmlns=\"http://www.w3.org/2000/svg\" height=\"24px\" viewBox=\"0 -960 960 960\">\n",
              "    <path d=\"M120-120v-720h720v720H120Zm60-500h600v-160H180v160Zm220 220h160v-160H400v160Zm0 220h160v-160H400v160ZM180-400h160v-160H180v160Zm440 0h160v-160H620v160ZM180-180h160v-160H180v160Zm440 0h160v-160H620v160Z\"/>\n",
              "  </svg>\n",
              "    </button>\n",
              "\n",
              "  <style>\n",
              "    .colab-df-container {\n",
              "      display:flex;\n",
              "      gap: 12px;\n",
              "    }\n",
              "\n",
              "    .colab-df-convert {\n",
              "      background-color: #E8F0FE;\n",
              "      border: none;\n",
              "      border-radius: 50%;\n",
              "      cursor: pointer;\n",
              "      display: none;\n",
              "      fill: #1967D2;\n",
              "      height: 32px;\n",
              "      padding: 0 0 0 0;\n",
              "      width: 32px;\n",
              "    }\n",
              "\n",
              "    .colab-df-convert:hover {\n",
              "      background-color: #E2EBFA;\n",
              "      box-shadow: 0px 1px 2px rgba(60, 64, 67, 0.3), 0px 1px 3px 1px rgba(60, 64, 67, 0.15);\n",
              "      fill: #174EA6;\n",
              "    }\n",
              "\n",
              "    .colab-df-buttons div {\n",
              "      margin-bottom: 4px;\n",
              "    }\n",
              "\n",
              "    [theme=dark] .colab-df-convert {\n",
              "      background-color: #3B4455;\n",
              "      fill: #D2E3FC;\n",
              "    }\n",
              "\n",
              "    [theme=dark] .colab-df-convert:hover {\n",
              "      background-color: #434B5C;\n",
              "      box-shadow: 0px 1px 3px 1px rgba(0, 0, 0, 0.15);\n",
              "      filter: drop-shadow(0px 1px 2px rgba(0, 0, 0, 0.3));\n",
              "      fill: #FFFFFF;\n",
              "    }\n",
              "  </style>\n",
              "\n",
              "    <script>\n",
              "      const buttonEl =\n",
              "        document.querySelector('#df-442bc906-e8a2-47b9-973e-2d69f6f88ba2 button.colab-df-convert');\n",
              "      buttonEl.style.display =\n",
              "        google.colab.kernel.accessAllowed ? 'block' : 'none';\n",
              "\n",
              "      async function convertToInteractive(key) {\n",
              "        const element = document.querySelector('#df-442bc906-e8a2-47b9-973e-2d69f6f88ba2');\n",
              "        const dataTable =\n",
              "          await google.colab.kernel.invokeFunction('convertToInteractive',\n",
              "                                                    [key], {});\n",
              "        if (!dataTable) return;\n",
              "\n",
              "        const docLinkHtml = 'Like what you see? Visit the ' +\n",
              "          '<a target=\"_blank\" href=https://colab.research.google.com/notebooks/data_table.ipynb>data table notebook</a>'\n",
              "          + ' to learn more about interactive tables.';\n",
              "        element.innerHTML = '';\n",
              "        dataTable['output_type'] = 'display_data';\n",
              "        await google.colab.output.renderOutput(dataTable, element);\n",
              "        const docLink = document.createElement('div');\n",
              "        docLink.innerHTML = docLinkHtml;\n",
              "        element.appendChild(docLink);\n",
              "      }\n",
              "    </script>\n",
              "  </div>\n",
              "\n",
              "\n",
              "<div id=\"df-40edb51d-b765-4918-8d48-53646a993d72\">\n",
              "  <button class=\"colab-df-quickchart\" onclick=\"quickchart('df-40edb51d-b765-4918-8d48-53646a993d72')\"\n",
              "            title=\"Suggest charts\"\n",
              "            style=\"display:none;\">\n",
              "\n",
              "<svg xmlns=\"http://www.w3.org/2000/svg\" height=\"24px\"viewBox=\"0 0 24 24\"\n",
              "     width=\"24px\">\n",
              "    <g>\n",
              "        <path d=\"M19 3H5c-1.1 0-2 .9-2 2v14c0 1.1.9 2 2 2h14c1.1 0 2-.9 2-2V5c0-1.1-.9-2-2-2zM9 17H7v-7h2v7zm4 0h-2V7h2v10zm4 0h-2v-4h2v4z\"/>\n",
              "    </g>\n",
              "</svg>\n",
              "  </button>\n",
              "\n",
              "<style>\n",
              "  .colab-df-quickchart {\n",
              "      --bg-color: #E8F0FE;\n",
              "      --fill-color: #1967D2;\n",
              "      --hover-bg-color: #E2EBFA;\n",
              "      --hover-fill-color: #174EA6;\n",
              "      --disabled-fill-color: #AAA;\n",
              "      --disabled-bg-color: #DDD;\n",
              "  }\n",
              "\n",
              "  [theme=dark] .colab-df-quickchart {\n",
              "      --bg-color: #3B4455;\n",
              "      --fill-color: #D2E3FC;\n",
              "      --hover-bg-color: #434B5C;\n",
              "      --hover-fill-color: #FFFFFF;\n",
              "      --disabled-bg-color: #3B4455;\n",
              "      --disabled-fill-color: #666;\n",
              "  }\n",
              "\n",
              "  .colab-df-quickchart {\n",
              "    background-color: var(--bg-color);\n",
              "    border: none;\n",
              "    border-radius: 50%;\n",
              "    cursor: pointer;\n",
              "    display: none;\n",
              "    fill: var(--fill-color);\n",
              "    height: 32px;\n",
              "    padding: 0;\n",
              "    width: 32px;\n",
              "  }\n",
              "\n",
              "  .colab-df-quickchart:hover {\n",
              "    background-color: var(--hover-bg-color);\n",
              "    box-shadow: 0 1px 2px rgba(60, 64, 67, 0.3), 0 1px 3px 1px rgba(60, 64, 67, 0.15);\n",
              "    fill: var(--button-hover-fill-color);\n",
              "  }\n",
              "\n",
              "  .colab-df-quickchart-complete:disabled,\n",
              "  .colab-df-quickchart-complete:disabled:hover {\n",
              "    background-color: var(--disabled-bg-color);\n",
              "    fill: var(--disabled-fill-color);\n",
              "    box-shadow: none;\n",
              "  }\n",
              "\n",
              "  .colab-df-spinner {\n",
              "    border: 2px solid var(--fill-color);\n",
              "    border-color: transparent;\n",
              "    border-bottom-color: var(--fill-color);\n",
              "    animation:\n",
              "      spin 1s steps(1) infinite;\n",
              "  }\n",
              "\n",
              "  @keyframes spin {\n",
              "    0% {\n",
              "      border-color: transparent;\n",
              "      border-bottom-color: var(--fill-color);\n",
              "      border-left-color: var(--fill-color);\n",
              "    }\n",
              "    20% {\n",
              "      border-color: transparent;\n",
              "      border-left-color: var(--fill-color);\n",
              "      border-top-color: var(--fill-color);\n",
              "    }\n",
              "    30% {\n",
              "      border-color: transparent;\n",
              "      border-left-color: var(--fill-color);\n",
              "      border-top-color: var(--fill-color);\n",
              "      border-right-color: var(--fill-color);\n",
              "    }\n",
              "    40% {\n",
              "      border-color: transparent;\n",
              "      border-right-color: var(--fill-color);\n",
              "      border-top-color: var(--fill-color);\n",
              "    }\n",
              "    60% {\n",
              "      border-color: transparent;\n",
              "      border-right-color: var(--fill-color);\n",
              "    }\n",
              "    80% {\n",
              "      border-color: transparent;\n",
              "      border-right-color: var(--fill-color);\n",
              "      border-bottom-color: var(--fill-color);\n",
              "    }\n",
              "    90% {\n",
              "      border-color: transparent;\n",
              "      border-bottom-color: var(--fill-color);\n",
              "    }\n",
              "  }\n",
              "</style>\n",
              "\n",
              "  <script>\n",
              "    async function quickchart(key) {\n",
              "      const quickchartButtonEl =\n",
              "        document.querySelector('#' + key + ' button');\n",
              "      quickchartButtonEl.disabled = true;  // To prevent multiple clicks.\n",
              "      quickchartButtonEl.classList.add('colab-df-spinner');\n",
              "      try {\n",
              "        const charts = await google.colab.kernel.invokeFunction(\n",
              "            'suggestCharts', [key], {});\n",
              "      } catch (error) {\n",
              "        console.error('Error during call to suggestCharts:', error);\n",
              "      }\n",
              "      quickchartButtonEl.classList.remove('colab-df-spinner');\n",
              "      quickchartButtonEl.classList.add('colab-df-quickchart-complete');\n",
              "    }\n",
              "    (() => {\n",
              "      let quickchartButtonEl =\n",
              "        document.querySelector('#df-40edb51d-b765-4918-8d48-53646a993d72 button');\n",
              "      quickchartButtonEl.style.display =\n",
              "        google.colab.kernel.accessAllowed ? 'block' : 'none';\n",
              "    })();\n",
              "  </script>\n",
              "</div>\n",
              "    </div>\n",
              "  </div>\n"
            ],
            "text/plain": [
              "         jaisawal       जयसवाल\n",
              "0           bajai         बजाई\n",
              "1       sanghthan        संघठन\n",
              "2         haiwaan        हैवान\n",
              "3         nilgiri      नीलगिरि\n",
              "4       drutgrami  द्रुतग्रामी\n",
              "...           ...          ...\n",
              "4090     paranshu       परांशु\n",
              "4091    romanchit     रोमांचित\n",
              "4092  ekamreshwar  एकाम्रेश्वर\n",
              "4093    bluetooth    ब्ल्यूटूथ\n",
              "4094    govindram   गोविंद्राम\n",
              "\n",
              "[4095 rows x 2 columns]"
            ]
          },
          "metadata": {},
          "output_type": "display_data"
        }
      ],
      "source": [
        "test_data=pd.read_csv(csv_files[0])\n",
        "train_data=pd.read_csv(csv_files[1])\n",
        "valid_data=pd.read_csv(csv_files[2])\n",
        "\n",
        "display((valid_data))"
      ]
    },
    {
      "cell_type": "markdown",
      "metadata": {
        "id": "A_zudZa061o3"
      },
      "source": [
        "# Data processing"
      ]
    },
    {
      "cell_type": "markdown",
      "metadata": {
        "id": "Ewnfh--ArVIU"
      },
      "source": [
        "Dictionary  index =>character and character => index"
      ]
    },
    {
      "cell_type": "code",
      "execution_count": 9,
      "metadata": {
        "colab": {
          "base_uri": "https://localhost:8080/",
          "height": 0
        },
        "execution": {
          "iopub.execute_input": "2024-05-05T03:30:47.144664Z",
          "iopub.status.busy": "2024-05-05T03:30:47.144317Z",
          "iopub.status.idle": "2024-05-05T03:30:47.227519Z",
          "shell.execute_reply": "2024-05-05T03:30:47.226629Z",
          "shell.execute_reply.started": "2024-05-05T03:30:47.144634Z"
        },
        "id": "PU-EbAlob_nw",
        "outputId": "ff6b7254-70c9-4262-8249-9f25aadac1d3",
        "trusted": true
      },
      "outputs": [
        {
          "name": "stdout",
          "output_type": "stream",
          "text": [
            "Source Column: shastragaar\n",
            "Target Column: शस्त्रागार\n"
          ]
        }
      ],
      "source": [
        "# Data path\n",
        "train_data_path=csv_files[1]\n",
        "\n",
        "# Load the CSV file using pandas\n",
        "train_data = pd.read_csv(train_data_path)\n",
        "\n",
        "# Assuming the CSV file has two columns named 'source' and 'target'\n",
        "# Extract the first row to determine the column names dynamically\n",
        "first_row = train_data.iloc[0]\n",
        "\n",
        "# Determine the column names dynamically\n",
        "training_src = first_row.index[0]  # Assuming the first column is the source column\n",
        "training_target = first_row.index[1]  # Assuming the second column is the target column\n",
        "\n",
        "# Print the determined column names\n",
        "print(\"Source Column:\", training_src)\n",
        "print(\"Target Column:\", training_target)\n"
      ]
    },
    {
      "cell_type": "code",
      "execution_count": 10,
      "metadata": {
        "colab": {
          "base_uri": "https://localhost:8080/",
          "height": 0
        },
        "execution": {
          "iopub.execute_input": "2024-05-05T03:30:47.228964Z",
          "iopub.status.busy": "2024-05-05T03:30:47.228685Z",
          "iopub.status.idle": "2024-05-05T03:30:47.243147Z",
          "shell.execute_reply": "2024-05-05T03:30:47.241949Z",
          "shell.execute_reply.started": "2024-05-05T03:30:47.228940Z"
        },
        "id": "PgwfUsuvb_nw",
        "outputId": "278f13af-6269-4fbc-e644-3b8dd6ba6976",
        "trusted": true
      },
      "outputs": [
        {
          "name": "stdout",
          "output_type": "stream",
          "text": [
            "Source Column: thermax\n",
            "Target Column: थरमैक्स\n"
          ]
        }
      ],
      "source": [
        "# Data path\n",
        "test_data_path=csv_files[0]\n",
        "\n",
        "# Load the CSV file using pandas\n",
        "test_data = pd.read_csv(test_data_path)\n",
        "\n",
        "# Assuming the CSV file has two columns named 'source' and 'target'\n",
        "# Extract the first row to determine the column names dynamically\n",
        "first_row = test_data.iloc[0]\n",
        "\n",
        "# Determine the column names dynamically\n",
        "test_src = first_row.index[0]  # Assuming the first column is the source column\n",
        "test_target = first_row.index[1]  # Assuming the second column is the target column\n",
        "\n",
        "# Print the determined column names\n",
        "print(\"Source Column:\", test_src)\n",
        "print(\"Target Column:\", test_target)\n"
      ]
    },
    {
      "cell_type": "code",
      "execution_count": 11,
      "metadata": {
        "colab": {
          "base_uri": "https://localhost:8080/",
          "height": 0
        },
        "execution": {
          "iopub.execute_input": "2024-05-05T03:30:47.247163Z",
          "iopub.status.busy": "2024-05-05T03:30:47.246832Z",
          "iopub.status.idle": "2024-05-05T03:30:47.261604Z",
          "shell.execute_reply": "2024-05-05T03:30:47.260483Z",
          "shell.execute_reply.started": "2024-05-05T03:30:47.247139Z"
        },
        "id": "LM_AIzHDb_nw",
        "outputId": "62f9a066-9f2a-4b4a-a34f-250eb3ac0403",
        "trusted": true
      },
      "outputs": [
        {
          "name": "stdout",
          "output_type": "stream",
          "text": [
            "Source Column: jaisawal\n",
            "Target Column: जयसवाल\n"
          ]
        }
      ],
      "source": [
        "\n",
        "# Assume we want to process the first CSV file in the list\n",
        "valid_data_path = csv_files[2]\n",
        "\n",
        "# Load the CSV file using pandas\n",
        "valid_data = pd.read_csv(valid_data_path)\n",
        "\n",
        "# Assuming the CSV file has two columns named 'source' and 'target'\n",
        "# Extract the first row to determine the column names dynamically\n",
        "first_row = valid_data.iloc[0]\n",
        "\n",
        "# Determine the column names dynamically\n",
        "validation_src = first_row.index[0]  # Assuming the first column is the source column\n",
        "validation_target = first_row.index[1]  # Assuming the second column is the target column\n",
        "\n",
        "# Print the determined column names\n",
        "print(\"Source Column:\", validation_src)\n",
        "print(\"Target Column:\", validation_target)\n"
      ]
    },
    {
      "cell_type": "markdown",
      "metadata": {
        "id": "oCIgY7M1r2Jg"
      },
      "source": [
        "prep-rocessing data"
      ]
    },
    {
      "cell_type": "code",
      "execution_count": 12,
      "metadata": {
        "colab": {
          "base_uri": "https://localhost:8080/",
          "height": 0
        },
        "execution": {
          "iopub.execute_input": "2024-05-05T03:30:47.262974Z",
          "iopub.status.busy": "2024-05-05T03:30:47.262700Z",
          "iopub.status.idle": "2024-05-05T03:30:47.284042Z",
          "shell.execute_reply": "2024-05-05T03:30:47.282921Z",
          "shell.execute_reply.started": "2024-05-05T03:30:47.262950Z"
        },
        "id": "YTmdFvyDr1Zv",
        "outputId": "9dae1f4f-ae92-42a8-ba64-670599d4e3f8",
        "trusted": true
      },
      "outputs": [
        {
          "name": "stdout",
          "output_type": "stream",
          "text": [
            "(51199,)\n",
            "(4095,)\n"
          ]
        }
      ],
      "source": [
        "# Text conversion to Lowercase\n",
        "train_data[training_src] = train_data[training_src].str.lower()\n",
        "test_data[test_src]=test_data[test_src].str.lower()\n",
        "print(train_data[training_src].shape)\n",
        "print(test_data[test_src].shape)"
      ]
    },
    {
      "cell_type": "markdown",
      "metadata": {
        "id": "TkBTpVEDsYxV"
      },
      "source": [
        "Data cleaning"
      ]
    },
    {
      "cell_type": "code",
      "execution_count": 13,
      "metadata": {
        "execution": {
          "iopub.execute_input": "2024-05-05T03:30:47.285793Z",
          "iopub.status.busy": "2024-05-05T03:30:47.285309Z",
          "iopub.status.idle": "2024-05-05T03:30:47.292439Z",
          "shell.execute_reply": "2024-05-05T03:30:47.291564Z",
          "shell.execute_reply.started": "2024-05-05T03:30:47.285766Z"
        },
        "id": "VPCgxRWTsbym",
        "trusted": true
      },
      "outputs": [],
      "source": [
        "def data_cleaning(text):\n",
        "    my_text=text\n",
        "    my_text = re.sub(r'[^\\u0900-\\u097F\\s]', '', text) # Remove punctuations and digits\n",
        "    my_text = re.sub(r'[\\d]', '', my_text)\n",
        "    target_vocab_size=58\n",
        "    my_text = unicodedata.normalize('NFD', my_text)  # Normalize text\n",
        "    my_text = ''.join(c for c in my_text if unicodedata.category(c) != 'Mn')\n",
        "    text2=0\n",
        "    my_text = unicodedata.normalize('NFC', my_text)\n",
        "    return my_text"
      ]
    },
    {
      "cell_type": "markdown",
      "metadata": {
        "id": "z7jEhnxUtjuN"
      },
      "source": [
        "Tokenizing Train data"
      ]
    },
    {
      "cell_type": "code",
      "execution_count": 14,
      "metadata": {
        "execution": {
          "iopub.execute_input": "2024-05-05T03:30:47.294138Z",
          "iopub.status.busy": "2024-05-05T03:30:47.293788Z",
          "iopub.status.idle": "2024-05-05T03:30:47.755561Z",
          "shell.execute_reply": "2024-05-05T03:30:47.754710Z",
          "shell.execute_reply.started": "2024-05-05T03:30:47.294112Z"
        },
        "id": "FBc8NCOXtn-F",
        "trusted": true
      },
      "outputs": [],
      "source": [
        "train_data[training_target] = train_data[training_target].apply(data_cleaning)\n",
        "train_char_scr = set()\n",
        "train_char_target = set()\n",
        "for src, target in zip(train_data[training_src], train_data[training_target]):\n",
        "    train_char_scr.update(src)\n",
        "    train_char_target.update(target)\n",
        "\n",
        "train_char_scr = sorted(list(train_char_scr))\n",
        "train_char_target = sorted(list(train_char_target))\n"
      ]
    },
    {
      "cell_type": "markdown",
      "metadata": {
        "id": "nMZP4deutovN"
      },
      "source": [
        "Tokenizing Test data"
      ]
    },
    {
      "cell_type": "code",
      "execution_count": 15,
      "metadata": {
        "execution": {
          "iopub.execute_input": "2024-05-05T03:30:47.756918Z",
          "iopub.status.busy": "2024-05-05T03:30:47.756628Z",
          "iopub.status.idle": "2024-05-05T03:30:47.798621Z",
          "shell.execute_reply": "2024-05-05T03:30:47.797815Z",
          "shell.execute_reply.started": "2024-05-05T03:30:47.756894Z"
        },
        "id": "UIA4lnHXtrLN",
        "trusted": true
      },
      "outputs": [],
      "source": [
        "test_data[test_target]=test_data[test_target].apply(data_cleaning)\n",
        "test_char_scr = set()\n",
        "test_char_target = set()\n",
        "for src, target in zip(test_data[test_src],test_data[test_target]):\n",
        "    test_char_scr.update(src)\n",
        "    test_char_target.update(target)\n",
        "test_char_scr = sorted(list(test_char_scr))\n",
        "test_char_target = sorted(list(test_char_target))\n"
      ]
    },
    {
      "cell_type": "markdown",
      "metadata": {
        "id": "n4kNC_Hxt2uX"
      },
      "source": [
        "Tokenizing Valid data"
      ]
    },
    {
      "cell_type": "code",
      "execution_count": 16,
      "metadata": {
        "colab": {
          "base_uri": "https://localhost:8080/",
          "height": 0
        },
        "execution": {
          "iopub.execute_input": "2024-05-05T03:30:47.799896Z",
          "iopub.status.busy": "2024-05-05T03:30:47.799629Z",
          "iopub.status.idle": "2024-05-05T03:30:47.842662Z",
          "shell.execute_reply": "2024-05-05T03:30:47.841549Z",
          "shell.execute_reply.started": "2024-05-05T03:30:47.799873Z"
        },
        "id": "Un49CmtKt6Hn",
        "outputId": "e873541f-3c95-435b-83de-10a4d7bca0c6",
        "trusted": true
      },
      "outputs": [
        {
          "name": "stdout",
          "output_type": "stream",
          "text": [
            "A ['ः', 'अ', 'आ', 'इ', 'ई', 'उ', 'ऊ', 'ऋ', 'ए', 'ऐ', 'ऑ', 'ओ', 'औ', 'क', 'ख', 'ग', 'घ', 'च', 'छ', 'ज', 'झ', 'ञ', 'ट', 'ठ', 'ड', 'ढ', 'ण', 'त', 'थ', 'द', 'ध', 'न', 'प', 'फ', 'ब', 'भ', 'म', 'य', 'र', 'ल', 'व', 'श', 'ष', 'स', 'ह', 'ऽ', 'ा', 'ि', 'ी', 'ॉ', 'ॊ', 'ो', 'ौ']\n",
            "['ः', 'अ', 'आ', 'इ', 'ई', 'उ', 'ऊ', 'ऋ', 'ए', 'ऐ', 'ऑ', 'ओ', 'औ', 'क', 'ख', 'ग', 'घ', 'ङ', 'च', 'छ', 'ज', 'झ', 'ञ', 'ट', 'ठ', 'ड', 'ढ', 'ण', 'त', 'थ', 'द', 'ध', 'न', 'प', 'फ', 'ब', 'भ', 'म', 'य', 'र', 'ल', 'ळ', 'व', 'श', 'ष', 'स', 'ह', 'ऽ', 'ा', 'ि', 'ी', 'ॉ', 'ो', 'ौ']\n"
          ]
        }
      ],
      "source": [
        "valid_data[validation_target]=valid_data[validation_target].apply(data_cleaning)\n",
        "val_char_scr = set()\n",
        "print(\"A\",test_char_target)\n",
        "val_char_target = set()\n",
        "for src, target in zip(valid_data[validation_src], valid_data[validation_target]):\n",
        "    val_char_scr.update(src)\n",
        "    val_char_target.update(target)\n",
        "val_char_scr = sorted(list(val_char_scr))\n",
        "print((train_char_target))\n",
        "val_char_target = sorted(list(val_char_target))\n"
      ]
    },
    {
      "cell_type": "code",
      "execution_count": 17,
      "metadata": {
        "colab": {
          "base_uri": "https://localhost:8080/",
          "height": 0
        },
        "execution": {
          "iopub.execute_input": "2024-05-05T03:30:47.844177Z",
          "iopub.status.busy": "2024-05-05T03:30:47.843889Z",
          "iopub.status.idle": "2024-05-05T03:30:47.860564Z",
          "shell.execute_reply": "2024-05-05T03:30:47.859503Z",
          "shell.execute_reply.started": "2024-05-05T03:30:47.844152Z"
        },
        "id": "14sCv2YUywJl",
        "outputId": "0eb6c624-eaf8-4cea-cc85-97f6683fe2c3",
        "trusted": true
      },
      "outputs": [
        {
          "name": "stdout",
          "output_type": "stream",
          "text": [
            "       shastragaar शस्त्रागार\n",
            "0          bindhya     बिनदया\n",
            "1        kirankant    किरणकात\n",
            "2      yagyopaveet   यजञोपवीत\n",
            "3          ratania    रटानिया\n",
            "4       vaganyache    वागणयाच\n",
            "...            ...        ...\n",
            "51194        toned        टोड\n",
            "51195   mutanaazaa     मतनाजा\n",
            "51196    asahmaton     असहमतो\n",
            "51197    sulgaayin     सलगायी\n",
            "51198  anchuthengu       अचतग\n",
            "\n",
            "[51199 rows x 2 columns]\n",
            "{'ः': 0, 'अ': 1, 'आ': 2, 'इ': 3, 'ई': 4, 'उ': 5, 'ऊ': 6, 'ऋ': 7, 'ए': 8, 'ऐ': 9, 'ऑ': 10, 'ओ': 11, 'औ': 12, 'क': 13, 'ख': 14, 'ग': 15, 'घ': 16, 'ङ': 17, 'च': 18, 'छ': 19, 'ज': 20, 'झ': 21, 'ञ': 22, 'ट': 23, 'ठ': 24, 'ड': 25, 'ढ': 26, 'ण': 27, 'त': 28, 'थ': 29, 'द': 30, 'ध': 31, 'न': 32, 'प': 33, 'फ': 34, 'ब': 35, 'भ': 36, 'म': 37, 'य': 38, 'र': 39, 'ल': 40, 'ळ': 41, 'व': 42, 'श': 43, 'ष': 44, 'स': 45, 'ह': 46, 'ऽ': 47, 'ा': 48, 'ि': 49, 'ी': 50, 'ॉ': 51, 'ॊ': 52, 'ो': 53, 'ौ': 54, '<SOS>': 55, '<EOS>': 56, '<PAD>': 57}\n",
            "{'a': 0, 'b': 1, 'c': 2, 'd': 3, 'e': 4, 'f': 5, 'g': 6, 'h': 7, 'i': 8, 'j': 9, 'k': 10, 'l': 11, 'm': 12, 'n': 13, 'o': 14, 'p': 15, 'q': 16, 'r': 17, 's': 18, 't': 19, 'u': 20, 'v': 21, 'w': 22, 'x': 23, 'y': 24, 'z': 25, '<SOS>': 26, '<EOS>': 27, '<PAD>': 28}\n"
          ]
        }
      ],
      "source": [
        "###character to index dictionary\n",
        "cha_src=sorted(list(set().union(train_char_scr,test_char_scr,val_char_scr)))\n",
        "print(train_data)\n",
        "cha_target=sorted(list(set().union(train_char_target,test_char_target,val_char_target )))\n",
        "\n",
        "char_to_index_src = {char: i for i, char in enumerate(cha_src)}\n",
        "len1 = len(char_to_index_src)\n",
        "char_to_index_target = {char: i for i, char in enumerate(cha_target)}\n",
        "len2=len(char_to_index_target)\n",
        "char_to_index_src['<SOS>'] = len1\n",
        "char_to_index_target['<SOS>'] = len2\n",
        "len3= len(char_to_index_src)\n",
        "char_to_index_src['<EOS>'] =len3\n",
        "len4=len(char_to_index_target)\n",
        "char_to_index_target['<EOS>'] = len4\n",
        "len5=len(char_to_index_src)\n",
        "char_to_index_src['<PAD>'] = len5\n",
        "len6=len(char_to_index_target)\n",
        "char_to_index_target['<PAD>'] = len6\n",
        "print(char_to_index_target)\n",
        "\n",
        "## index to charcter dicitonary\n",
        "index_to_char_src={i:char for i,char in enumerate(cha_src)}\n",
        "print(char_to_index_src)\n",
        "index_to_char_target={i:char for i,char in enumerate(cha_target)}"
      ]
    },
    {
      "cell_type": "code",
      "execution_count": 18,
      "metadata": {
        "execution": {
          "iopub.execute_input": "2024-05-05T03:30:47.862204Z",
          "iopub.status.busy": "2024-05-05T03:30:47.861901Z",
          "iopub.status.idle": "2024-05-05T03:30:47.875923Z",
          "shell.execute_reply": "2024-05-05T03:30:47.874919Z",
          "shell.execute_reply.started": "2024-05-05T03:30:47.862180Z"
        },
        "id": "gJtRyjUjuvUZ",
        "trusted": true
      },
      "outputs": [],
      "source": [
        "def generate_token(src,target,path): #source: input column of csv file , target: target column of csv file\n",
        "\n",
        "    data=pd.read_csv(path)\n",
        "    data_val = [] # char to num val\n",
        "    data[src] = data[src].str.lower()  # lowercase conversion of data\n",
        "    data[target] = data[target].apply(data_cleaning)\n",
        "\n",
        "    for src, targ in zip(data[src], data[target]):\n",
        "        source_val = [char_to_index_src[char] for char in src]\n",
        "        temp1=[char_to_index_src['<EOS>']]\n",
        "        source_val=[char_to_index_src['<SOS>']] + temp1 + source_val + [char_to_index_src['<PAD>']] * (28-len(src)-2)\n",
        "        target_val = [char_to_index_target[char] for char in targ]\n",
        "        temp2=target_val+[char_to_index_target['<EOS>']]\n",
        "        target_val=[char_to_index_target['<SOS>']]+temp2+[char_to_index_target['<PAD>']]*(20-len(targ)-2)\n",
        "        data_val.append([source_val, target_val])\n",
        "\n",
        "    return data_val"
      ]
    },
    {
      "cell_type": "markdown",
      "metadata": {
        "id": "fdnwswpCj2Fi"
      },
      "source": [
        "# Class AksharantarDataset is for making tokenized data iteratable"
      ]
    },
    {
      "cell_type": "code",
      "execution_count": 19,
      "metadata": {
        "execution": {
          "iopub.execute_input": "2024-05-05T03:30:47.879827Z",
          "iopub.status.busy": "2024-05-05T03:30:47.879478Z",
          "iopub.status.idle": "2024-05-05T03:30:47.888120Z",
          "shell.execute_reply": "2024-05-05T03:30:47.887251Z",
          "shell.execute_reply.started": "2024-05-05T03:30:47.879801Z"
        },
        "id": "lKSTqi8GvCP_",
        "trusted": true
      },
      "outputs": [],
      "source": [
        "class data_preprocess(Dataset):\n",
        "    def __init__(self, data):\n",
        "        \"\"\"\n",
        "        Initialize the dataset with the provided data.\n",
        "\n",
        "        Args:\n",
        "            data (list): List of tuples containing source and target data.\n",
        "        \"\"\"\n",
        "        self.data = data\n",
        "\n",
        "    def __len__(self):\n",
        "        \"\"\"\n",
        "        Get the total number of samples in the dataset.\n",
        "\n",
        "        Returns:\n",
        "            int: Total number of samples.\n",
        "        \"\"\"\n",
        "        return len(self.data)\n",
        "\n",
        "    def __getitem__(self, index):\n",
        "        ind_=0\n",
        "        \"\"\"\n",
        "        Retrieve a specific sample from the dataset.\n",
        "\n",
        "        Args:\n",
        "            index (int): Index of the sample to retrieve.\n",
        "\n",
        "        Returns:\n",
        "            tuple: Tuple containing the source tensor and target tensor.\n",
        "        \"\"\"\n",
        "        src, target = self.data[index]\n",
        "        ind_=ind_+1\n",
        "        src_tensor = torch.tensor(src, dtype=torch.long)\n",
        "        target_tensor = torch.tensor(target, dtype=torch.long)\n",
        "        return src_tensor, target_tensor"
      ]
    },
    {
      "cell_type": "markdown",
      "metadata": {
        "id": "r3esjDOVkUcl"
      },
      "source": [
        "# Dataloading"
      ]
    },
    {
      "cell_type": "code",
      "execution_count": 20,
      "metadata": {
        "colab": {
          "base_uri": "https://localhost:8080/",
          "height": 0
        },
        "execution": {
          "iopub.execute_input": "2024-05-05T03:30:48.361631Z",
          "iopub.status.busy": "2024-05-05T03:30:48.361244Z",
          "iopub.status.idle": "2024-05-05T03:30:49.624101Z",
          "shell.execute_reply": "2024-05-05T03:30:49.623225Z",
          "shell.execute_reply.started": "2024-05-05T03:30:48.361602Z"
        },
        "id": "Nd2sTFKRvylq",
        "outputId": "db0e9f9e-e765-46ed-c7e4-f05e50cc727e",
        "trusted": true
      },
      "outputs": [
        {
          "name": "stdout",
          "output_type": "stream",
          "text": [
            "800\n",
            "64\n",
            "64\n"
          ]
        }
      ],
      "source": [
        "data_train=DataLoader(data_preprocess(generate_token(training_src,training_target,train_data_path)), batch_size=64, shuffle=True)\n",
        "data_val=DataLoader(data_preprocess(generate_token(validation_src,validation_target,valid_data_path)), batch_size=64, shuffle=False)\n",
        "data_test=DataLoader(data_preprocess(generate_token(test_src,test_target,test_data_path)), batch_size=64, shuffle=False)\n",
        "print(len(data_train))\n",
        "print(len(data_val))\n",
        "print(len(data_test))"
      ]
    },
    {
      "cell_type": "markdown",
      "metadata": {
        "id": "CQ_s_RxwkgfW"
      },
      "source": [
        "# Model"
      ]
    },
    {
      "cell_type": "markdown",
      "metadata": {
        "id": "lVeUpjHoyqCR"
      },
      "source": [
        "Parameters used:\n",
        "     # input embedding size => length of input to encoder\n",
        "     # embedding size => embedding length for each character in embedding layer\n",
        "     # hidden layer size => hidden size of encoder hidden states\n",
        "     # number of encoder layers => number of encoder layer in encoder\n",
        "     # dropout => dropout ratio appied in fc layer\n",
        "     # bidirectional => [True,False]\n",
        "     # cell type => 'LSTM','RNN','GRU'\n"
      ]
    },
    {
      "cell_type": "markdown",
      "metadata": {
        "id": "9c07PMuUx6N6"
      },
      "source": [
        "# Encoder"
      ]
    },
    {
      "cell_type": "markdown",
      "metadata": {
        "id": "htrI-nGIdRcF"
      },
      "source": [
        "forward propogation for encoder"
      ]
    },
    {
      "cell_type": "code",
      "execution_count": 21,
      "metadata": {
        "execution": {
          "iopub.execute_input": "2024-04-30T17:51:00.882494Z",
          "iopub.status.busy": "2024-04-30T17:51:00.882180Z",
          "iopub.status.idle": "2024-04-30T17:51:00.891357Z",
          "shell.execute_reply": "2024-04-30T17:51:00.890310Z",
          "shell.execute_reply.started": "2024-04-30T17:51:00.882468Z"
        },
        "id": "iXptx1BHc_eT",
        "trusted": true
      },
      "outputs": [],
      "source": [
        "# def forward_encoder(num_encoder_layer, hidden_size, bidirection, cell_type, embedding, rnn, dropout, inputs):\n",
        "#     # Determine device (assuming 'device' is defined elsewhere)\n",
        "#     device = inputs.device\n",
        "\n",
        "#     # Initialize initial hidden states based on bidirection and cell_type\n",
        "#     if bidirection:\n",
        "#         num_directions = 2\n",
        "#     else:\n",
        "#         num_directions = 1\n",
        "\n",
        "#     num_layers = num_encoder_layer * num_directions\n",
        "\n",
        "#     if cell_type == 'LSTM':\n",
        "#         h0 = torch.randn(num_layers, inputs.shape[0], hidden_size).to(device)\n",
        "#         c0 = torch.randn(num_layers, inputs.shape[0], hidden_size).to(device)\n",
        "#         initial_state = (h0, c0)\n",
        "#     else:\n",
        "#         h0 = torch.randn(num_layers, inputs.shape[0], hidden_size).to(device)\n",
        "#         initial_state = h0\n",
        "\n",
        "#     # Apply dropout to the input embeddings\n",
        "#     embedded_inputs = dropout(embedding(inputs))\n",
        "#     embedded_inputs = embedded_inputs.permute(1, 0, 2)  # Change input shape for RNN\n",
        "\n",
        "#     # Forward pass through RNN\n",
        "#     if cell_type == 'LSTM':\n",
        "#         output, (hidden, cell) = rnn(embedded_inputs, initial_state)\n",
        "#         return hidden, cell\n",
        "#     else:\n",
        "#         output, hidden = rnn(embedded_inputs, initial_state)\n",
        "#         #cell = None  # No cell state for non-LSTM RNNs\n",
        "#         return hidden, None\n"
      ]
    },
    {
      "cell_type": "code",
      "execution_count": 22,
      "metadata": {
        "id": "DysDE-UwmEsS"
      },
      "outputs": [],
      "source": [
        "# def forward_decoder(embedding, rnn, dropout, fc, cell_type, x, hidden, cell):\n",
        "#     # Prepare input tensor for the decoder\n",
        "#     x = x.unsqueeze(0)\n",
        "#     embedded_input = dropout(embedding(x))\n",
        "\n",
        "#     if cell_type == 'LSTM':\n",
        "#         # Apply the LSTM decoder with cell state\n",
        "#         output, (hidden, cell) = rnn(embedded_input, (hidden, cell))\n",
        "#     else:\n",
        "#         # Apply the GRU or RNN decoder without cell state\n",
        "#         output, hidden = rnn(embedded_input, hidden)\n",
        "#         cell = None  # Set cell to None for consistency\n",
        "\n",
        "#     # Perform fully connected layer operation for prediction\n",
        "#     prediction = fc(output)\n",
        "#     prediction = prediction.squeeze(0)  # Remove the extra dimension\n",
        "\n",
        "#     return prediction, hidden, cell\n"
      ]
    },
    {
      "cell_type": "code",
      "execution_count": 23,
      "metadata": {
        "execution": {
          "iopub.execute_input": "2024-04-30T17:51:01.207481Z",
          "iopub.status.busy": "2024-04-30T17:51:01.206586Z",
          "iopub.status.idle": "2024-04-30T17:51:01.217230Z",
          "shell.execute_reply": "2024-04-30T17:51:01.216284Z",
          "shell.execute_reply.started": "2024-04-30T17:51:01.207448Z"
        },
        "id": "aJfIjpi2x8Ax",
        "trusted": true
      },
      "outputs": [],
      "source": [
        "# class encoder(nn.Module):\n",
        "#     def __init__(self,input_size,embedding_size,hidden_size,num_encoder_layer,dropout,input_vocab_size,bidirection,cell_type):\n",
        "#         super(encoder,self).__init__()\n",
        "\n",
        "#         self.cell_type=cell_type\n",
        "#         rnn_dict = {\n",
        "#         'GRU': nn.GRU,\n",
        "#         'RNN': nn.RNN,\n",
        "#         'LSTM': nn.LSTM\n",
        "#         }\n",
        "#         self.num_encoder_layer=num_encoder_layer\n",
        "#         self.embedding=nn.Embedding(input_vocab_size,embedding_size)\n",
        "#         # Determine the RNN class based on the specified cell_type\n",
        "#         rnn_class = rnn_dict[cell_type]\n",
        "#         self.bidirection=bidirection    #self.embedding_size = embeddings_size\n",
        "#         self.hidden_size=hidden_size\n",
        "#         self.dropout=nn.Dropout(dropout)\n",
        "#         self.input_size = input_size\n",
        "\n",
        "\n",
        "#     # Validate the cell_type\n",
        "#         if cell_type not in rnn_dict:\n",
        "#             raise ValueError(f\"Invalid cell_type: {cell_type}. Supported types are {list(rnn_dict.keys())}\")\n",
        "\n",
        "\n",
        "#     # Check if num_encoder_layer is not equal to 1 to include dropout and bidirectional\n",
        "#         if num_encoder_layer != 1:\n",
        "#             self.rnn = rnn_class(embedding_size, hidden_size, num_encoder_layer,dropout=dropout, bidirectional=bidirection)\n",
        "#         else:\n",
        "#             self.rnn = rnn_class(embedding_size, hidden_size, num_encoder_layer,bidirectional=bidirection)\n",
        "\n",
        "\n",
        "#     def forward(self,inputs):\n",
        "#         return forward_encoder(self.num_encoder_layer ,self.hidden_size,self.bidirection,self.cell_type ,self.embedding,self.rnn , self.dropout , inputs  )\n"
      ]
    },
    {
      "cell_type": "markdown",
      "metadata": {
        "id": "-tPAlrQ_x89z"
      },
      "source": [
        "# Decoder"
      ]
    },
    {
      "cell_type": "markdown",
      "metadata": {
        "id": "tQS9bMR02Gzs"
      },
      "source": [
        "forward propogation for decoder"
      ]
    },
    {
      "cell_type": "code",
      "execution_count": 24,
      "metadata": {
        "execution": {
          "iopub.execute_input": "2024-04-30T17:51:01.335984Z",
          "iopub.status.busy": "2024-04-30T17:51:01.335654Z",
          "iopub.status.idle": "2024-04-30T17:51:01.346502Z",
          "shell.execute_reply": "2024-04-30T17:51:01.345543Z",
          "shell.execute_reply.started": "2024-04-30T17:51:01.335959Z"
        },
        "id": "QpsTYsY7wEm6",
        "trusted": true
      },
      "outputs": [],
      "source": [
        "# class Decoder(nn.Module):\n",
        "#     def __init__(self,input_size,embedding_size,hidden_size,output_vocab_size,num_decoder_layer,dropout,bidirection,cell_type):\n",
        "\n",
        "#         super(Decoder,self).__init__()\n",
        "#         self.cell_type=cell_type\n",
        "#         self.embedding=nn.Embedding(output_vocab_size+3,embedding_size)\n",
        "#         self.dropout=nn.Dropout(dropout)\n",
        "#         self.num_decoder_layer=num_decoder_layer\n",
        "#         self.hidden_size=hidden_size\n",
        "\n",
        "#         rnn_dict = {\n",
        "#             'GRU': nn.GRU,\n",
        "#             'RNN': nn.RNN,\n",
        "#             'LSTM': nn.LSTM\n",
        "#         }\n",
        "\n",
        "#         # Validate the cell_type\n",
        "#         if cell_type not in rnn_dict:\n",
        "#             raise ValueError(f\"Invalid cell_type: {cell_type}. Supported types are {list(rnn_dict.keys())}\")\n",
        "\n",
        "#         # Determine the RNN class based on the specified cell_type\n",
        "#         rnn_class = rnn_dict[cell_type]\n",
        "\n",
        "#         # Check if num_encoder_layer is not equal to 1 to include dropout and bidirectional\n",
        "#         if num_decoder_layer != 1:\n",
        "#             rnn_class = rnn_dict[cell_type]\n",
        "#             self.rnn = rnn_class(embedding_size, hidden_size, num_decoder_layer,dropout=dropout, bidirectional=bidirection)\n",
        "#         else:\n",
        "#             rnn_class = rnn_dict[cell_type]\n",
        "#             self.rnn = rnn_class(embedding_size, hidden_size, num_decoder_layer,bidirectional=bidirection)\n",
        "\n",
        "#         # bidirectional if used\n",
        "#         if bidirection:\n",
        "#             temp1=output_vocab_size+3\n",
        "#             temp2=hidden_size*2\n",
        "#             self.fc=nn.Linear(temp2,temp1)\n",
        "\n",
        "#         else:\n",
        "#             temp3=output_vocab_size+3\n",
        "#             self.fc=nn.Linear(hidden_size,temp3)\n",
        "\n",
        "\n",
        "#     def forward(self,x,hidden,cell):\n",
        "#         return forward_decoder(self.embedding , self.rnn , self.dropout , self.fc , self.cell_type , x,hidden,cell)"
      ]
    },
    {
      "cell_type": "markdown",
      "metadata": {
        "id": "Ulv7u-jnyDj8"
      },
      "source": [
        "# Seq2seq model : connecting encoder and decoder to generate the output"
      ]
    },
    {
      "cell_type": "code",
      "execution_count": 25,
      "metadata": {
        "execution": {
          "iopub.execute_input": "2024-04-30T17:51:01.456331Z",
          "iopub.status.busy": "2024-04-30T17:51:01.456059Z",
          "iopub.status.idle": "2024-04-30T17:51:01.467678Z",
          "shell.execute_reply": "2024-04-30T17:51:01.466717Z",
          "shell.execute_reply.started": "2024-04-30T17:51:01.456309Z"
        },
        "id": "uPFwnfazyCoG",
        "trusted": true
      },
      "outputs": [],
      "source": [
        "# class seq2seq(nn.Module):\n",
        "#     def __init__(self,encoder,decoder):\n",
        "#         super(seq2seq,self).__init__()\n",
        "#         self.encoder=encoder\n",
        "#         target_vocab_size=58\n",
        "#         self.decoder=decoder\n",
        "\n",
        "#   #forward propogation\n",
        "#     def forward(self,source,target,teacher_forceing=0.5):\n",
        "#         self.target=target\n",
        "#         batch_size=source.shape[0]\n",
        "#         target_vocab_size=58\n",
        "#         self.target_len=target.shape[1]\n",
        "\n",
        "#         outputs=torch.zeros(self.target_len,batch_size,target_vocab_size).to(device)\n",
        "\n",
        "#         hidden,cell=self.encoder(source)\n",
        "#         x=target[:,0]\n",
        "\n",
        "\n",
        "#         for t in range(0,self.target_len):\n",
        "#             pred,hidden,cell=self.decoder(x,hidden,cell)\n",
        "#             outputs[t]=pred\n",
        "#             target_vocab_size=58\n",
        "#             best_guess=pred.argmax(1)\n",
        "#             target_vocab_size=58\n",
        "#             x=target[:,t] if random.random()<teacher_forceing else best_guess\n",
        "#         return outputs\n",
        "\n",
        "\n",
        "#     def prediction(self,sources):\n",
        "#         outputs=torch.zeros(self.target_len,sources.shape[0],58).to(device)\n",
        "#         hidden,cell=self.encoder(sources)\n",
        "#         x=sources[:,0]\n",
        "\n",
        "\n",
        "#         for t in range(0,self.target_len):\n",
        "\n",
        "#             pred,hidden,cell=self.decoder(x,hidden,cell)\n",
        "#             outputs[t]=pred\n",
        "#             target_vocab_size=58\n",
        "#             best_guess=pred.argmax(1)\n",
        "#             x=best_guess\n",
        "#         return outputs"
      ]
    },
    {
      "cell_type": "code",
      "execution_count": 26,
      "metadata": {
        "execution": {
          "iopub.execute_input": "2024-05-05T03:54:11.704947Z",
          "iopub.status.busy": "2024-05-05T03:54:11.704426Z",
          "iopub.status.idle": "2024-05-05T03:54:11.740497Z",
          "shell.execute_reply": "2024-05-05T03:54:11.739321Z",
          "shell.execute_reply.started": "2024-05-05T03:54:11.704910Z"
        },
        "id": "CQNRztWuREMl",
        "trusted": true
      },
      "outputs": [],
      "source": [
        "def forward_encoder(num_encoder_layer,hidden_size , bidirection,embedding, rnn, dropout, inputs):\n",
        "    batch_size=inputs.shape[0]\n",
        "\n",
        "    if bidirection:\n",
        "        h0=torch.randn(2*num_encoder_layer,batch_size,hidden_size).to(device)\n",
        "    else:\n",
        "        h0=torch.randn(num_encoder_layer,batch_size,hidden_size).to(device)\n",
        "\n",
        "    embedding=dropout(embedding(inputs))\n",
        "    embedding=torch.permute(embedding,(1,0,2))\n",
        "    encoder_states,hidden=rnn(embedding,h0)\n",
        "    return encoder_states,hidden\n",
        "# ////////////////////////////////////////////\n",
        "class Encoder(nn.Module):\n",
        "    def __init__(self,input_size,embedding_size,hidden_size,num_encoder_layer,dropout,input_vocab_size,bidirection,cell_type):\n",
        "        super(Encoder,self).__init__()\n",
        "        self.input_size = input_size\n",
        "        self.cell_type=cell_type\n",
        "        self.bidirection=bidirection\n",
        "        self.hidden_size=hidden_size\n",
        "        self.num_encoder_layer=num_encoder_layer\n",
        "        self.dropout=nn.Dropout(dropout)\n",
        "        self.embedding=nn.Embedding(input_vocab_size,embedding_size)\n",
        "\n",
        "        rnn_dict = {\n",
        "            'GRU': nn.GRU,\n",
        "            'RNN': nn.RNN,\n",
        "            'LSTM': nn.LSTM\n",
        "            }\n",
        "\n",
        "        if cell_type not in rnn_dict:\n",
        "            raise ValueError(f\"Invalid cell_type: {cell_type}. Supported types are {list(rnn_dict.keys())}\")\n",
        "\n",
        "        rnn_class = rnn_dict[cell_type]\n",
        "\n",
        "        if num_encoder_layer != 1:\n",
        "            self.rnn = rnn_class(embedding_size, hidden_size, num_encoder_layer,dropout=dropout, bidirectional=bidirection)\n",
        "        else:\n",
        "            self.rnn = rnn_class(embedding_size, hidden_size, num_encoder_layer,bidirectional=bidirection)\n",
        "\n",
        "    def forward(self,inputs):\n",
        "         return forward_encoder(self.num_encoder_layer, self.hidden_size, self.bidirection, self.embedding, self.rnn, self.dropout, inputs)\n",
        "\n",
        "# //////////////////////////////\n",
        "class Decoder_Attn(nn.Module):\n",
        "    def __init__(self,input_size,embedding_size,hidden_size,output_vocab_size,num_decoder_layer,dropout,bidirection,cell_type):\n",
        "        super(Decoder_Attn,self).__init__()\n",
        "        self.bidirection=bidirection\n",
        "        self.hidden_size=hidden_size\n",
        "        self.cell_type=cell_type\n",
        "        self.num_layer=num_decoder_layer\n",
        "        self.dropout=nn.Dropout(dropout)\n",
        "        self.embedding=nn.Embedding(output_vocab_size+3,embedding_size)\n",
        "\n",
        "\n",
        "        rnn_dict = {\n",
        "            'GRU': nn.GRU,\n",
        "            'RNN': nn.RNN,\n",
        "            'LSTM': nn.LSTM\n",
        "            }\n",
        "        rnn_class = rnn_dict[cell_type]\n",
        "\n",
        "\n",
        "        if self.bidirection:\n",
        "            if cell_type=='GRU':\n",
        "                if num_decoder_layer!=1:\n",
        "                    self.rnn=rnn_class(hidden_size*2+embedding_size,hidden_size,num_decoder_layer,dropout=dropout,bidirectional=bidirection)\n",
        "                else:\n",
        "                    self.rnn=rnn_class(hidden_size*2+embedding_size,hidden_size,num_decoder_layer,bidirectional=bidirection)\n",
        "            self.energy=nn.Linear(hidden_size*3,1)\n",
        "        else:\n",
        "            if cell_type=='GRU':\n",
        "                if num_decoder_layer!=1:\n",
        "                    self.rnn=rnn_class(hidden_size+embedding_size,hidden_size,num_decoder_layer,dropout=dropout,bidirectional=bidirection)\n",
        "                else:\n",
        "                    self.rnn=rnn_class(hidden_size+embedding_size,hidden_size,num_decoder_layer,bidirectional=bidirection)\n",
        "            self.energy=nn.Linear(hidden_size*2,1)\n",
        "\n",
        "        self.softmax=nn.Softmax(dim=0)\n",
        "        self.tanh=nn.Tanh()\n",
        "        if bidirection:\n",
        "            self.fc=nn.Linear(hidden_size*2,output_vocab_size+3)\n",
        "        else:\n",
        "            self.fc=nn.Linear(hidden_size,output_vocab_size+3)\n",
        "\n",
        "\n",
        "    def forward(self,x,encoder_states,hidden):\n",
        "        x=x.unsqueeze(0)\n",
        "        embedding=self.dropout(self.embedding(x))\n",
        "        seq_length=encoder_states.shape[0]\n",
        "        if self.bidirection:\n",
        "            h_reshaped=hidden.repeat((seq_length//(2*self.num_layer)),1,1)\n",
        "        else:\n",
        "            h_reshaped=hidden.repeat((seq_length//(self.num_layer)),1,1)\n",
        "        energy=self.tanh(self.energy(torch.cat((h_reshaped,encoder_states),dim=2)))\n",
        "        attention=self.softmax(energy)\n",
        "        attention=attention.permute(1,2,0)\n",
        "        encoder_states=encoder_states.permute(1,0,2)\n",
        "        context_vector=torch.bmm(attention,encoder_states)\n",
        "        context_vector=context_vector.permute(1,0,2)\n",
        "        rnn_input=torch.cat((context_vector,embedding),dim=2)\n",
        "        output,(hidden)=self.rnn(rnn_input,(hidden))\n",
        "        prediction=self.fc(output)\n",
        "        prediction=prediction.squeeze(0)\n",
        "        return prediction,hidden\n",
        "\n",
        "\n",
        "\n",
        "# ////////////////////////////\n",
        "class seq2seq(nn.Module):\n",
        "    def __init__(self,encoder,decoder):\n",
        "        super(seq2seq,self).__init__()\n",
        "        self.encoder=encoder\n",
        "        self.decoder=decoder\n",
        "\n",
        "    def forward(self,source,target,teacher_forceing=0.5):\n",
        "        batch_size=source.shape[0]#64\n",
        "        self.target=target\n",
        "        self.target_len=target.shape[1]#20\n",
        "\n",
        "        target_vocab_size=55\n",
        "        outputs=torch.zeros(self.target_len,batch_size,target_vocab_size+3).to(device)\n",
        "\n",
        "        encoder_states,hidden=self.encoder(source)\n",
        "        x=target[:,0] #\n",
        "\n",
        "\n",
        "        for t in range(0,self.target_len):\n",
        "            pred,hidden=self.decoder(x,encoder_states,hidden)\n",
        "            outputs[t]=pred\n",
        "            best_guess=pred.argmax(1)\n",
        "            x=target[:,t] if random.random()<teacher_forceing else best_guess\n",
        "        return outputs\n",
        "\n",
        "\n",
        "    def prediction(self,sources):\n",
        "        batch_size=sources.shape[0]\n",
        "        target_vocab_size=55\n",
        "        outputs=torch.zeros(self.target_len,batch_size,target_vocab_size+3).to(device)\n",
        "        encoder_states,hidden=self.encoder(sources)\n",
        "        x=sources[:,0]\n",
        "\n",
        "        for t in range(0,self.target_len):\n",
        "            pred,hidden=self.decoder(x,encoder_states,hidden)\n",
        "            outputs[t]=pred\n",
        "            best_guess=pred.argmax(1)\n",
        "            x=best_guess\n",
        "        return outputs"
      ]
    },
    {
      "cell_type": "markdown",
      "metadata": {
        "id": "kiBSw3prrGxj"
      },
      "source": [
        "# Sweep configuration over Hyperparameters"
      ]
    },
    {
      "cell_type": "code",
      "execution_count": 27,
      "metadata": {
        "execution": {
          "iopub.execute_input": "2024-05-05T03:55:52.447975Z",
          "iopub.status.busy": "2024-05-05T03:55:52.447582Z",
          "iopub.status.idle": "2024-05-05T03:55:52.458040Z",
          "shell.execute_reply": "2024-05-05T03:55:52.456966Z",
          "shell.execute_reply.started": "2024-05-05T03:55:52.447944Z"
        },
        "id": "FiIDeAzW34el",
        "trusted": true
      },
      "outputs": [],
      "source": [
        "sweep_configuration={\n",
        "\n",
        "    'name':'cs23m013',\n",
        "    'method':'bayes',\n",
        "    'metric':{'name':'val_acc','goal':'maximize'},\n",
        "    'parameters':{\n",
        "\n",
        "        'epochs':{\n",
        "            'values':[1]\n",
        "        },\n",
        "\n",
        "         'learning_rate':{\n",
        "            'values':[0.001 , 0.0001 , 0.00001]\n",
        "        },\n",
        "\n",
        "        'embedding_size':{\n",
        "            'values':[64,128,256]\n",
        "            },\n",
        "\n",
        "        'num_encoder_layer':{\n",
        "            'values':[1,2]\n",
        "            },\n",
        "\n",
        "        'num_decoder_layer':{\n",
        "            'values':[1,2]\n",
        "        },\n",
        "\n",
        "        'hidden_layer_size':{\n",
        "            'values':[64,128 , 256,512]\n",
        "            },\n",
        "\n",
        "        'cell_type':{\n",
        "            'values':['GRU']\n",
        "            },\n",
        "\n",
        "        'dropout':{\n",
        "            'values':[0, 0.2,0.3 , 0.4 , 0.6]\n",
        "            },\n",
        "\n",
        "        'bidirection':{\n",
        "            'values':[True,False]\n",
        "            }\n",
        "\n",
        "        }\n",
        "    }\n"
      ]
    },
    {
      "cell_type": "markdown",
      "metadata": {
        "id": "6iJfuQax3-j-"
      },
      "source": [
        "# Train"
      ]
    },
    {
      "cell_type": "code",
      "execution_count": 28,
      "metadata": {
        "execution": {
          "iopub.execute_input": "2024-05-05T03:32:16.455290Z",
          "iopub.status.busy": "2024-05-05T03:32:16.454729Z",
          "iopub.status.idle": "2024-05-05T03:32:16.459435Z",
          "shell.execute_reply": "2024-05-05T03:32:16.458526Z",
          "shell.execute_reply.started": "2024-05-05T03:32:16.455260Z"
        },
        "id": "hKiH3-Ayb_n1",
        "trusted": true
      },
      "outputs": [],
      "source": [
        "def initialize_wandb():\n",
        "    wandb.init()"
      ]
    },
    {
      "cell_type": "markdown",
      "metadata": {
        "id": "cfQlDDvtb_n1"
      },
      "source": [
        "# Call Sweep"
      ]
    },
    {
      "cell_type": "code",
      "execution_count": 29,
      "metadata": {
        "execution": {
          "iopub.execute_input": "2024-05-05T03:32:18.708363Z",
          "iopub.status.busy": "2024-05-05T03:32:18.707516Z",
          "iopub.status.idle": "2024-05-05T03:32:18.712943Z",
          "shell.execute_reply": "2024-05-05T03:32:18.712088Z",
          "shell.execute_reply.started": "2024-05-05T03:32:18.708328Z"
        },
        "id": "EI512yYJb_n1",
        "trusted": true
      },
      "outputs": [],
      "source": [
        "#print and wandb log\n",
        "def wandb_log_final(train_accuracy_char ,  train_loss , val_accuracy_word,val_loss):\n",
        "    wandb.log({\n",
        "        'train_accuracy_char': train_accuracy_char,\n",
        "        'train_loss': train_loss,\n",
        "        'val_accuracy_word': val_accuracy_word,\n",
        "        'val_loss': val_loss\n",
        "    })\n"
      ]
    },
    {
      "cell_type": "code",
      "execution_count": 30,
      "metadata": {
        "execution": {
          "iopub.execute_input": "2024-05-05T03:32:20.247381Z",
          "iopub.status.busy": "2024-05-05T03:32:20.247022Z",
          "iopub.status.idle": "2024-05-05T03:32:20.258756Z",
          "shell.execute_reply": "2024-05-05T03:32:20.257664Z",
          "shell.execute_reply.started": "2024-05-05T03:32:20.247352Z"
        },
        "id": "asIfClD1b_n1",
        "trusted": true
      },
      "outputs": [],
      "source": [
        "def train_best_final(model, data_loader, criterion, optimizer, device, batch_size):\n",
        "    model.train()\n",
        "    train_loss = 0.0\n",
        "    num_correct_train_char = 0\n",
        "\n",
        "    for inputs, target in data_loader:\n",
        "        inputs = inputs.to(device)\n",
        "        crite_rion=0\n",
        "        target = target.to(device)\n",
        "        optimizer.zero_grad()\n",
        "\n",
        "        output = model(inputs, target)\n",
        "        output = torch.permute(output, (1, 0, 2))\n",
        "        output3=crite_rion+1\n",
        "\n",
        "        output1 = output[1:].reshape(-1, output.shape[2])\n",
        "        target_vocab_size=58\n",
        "        target1 = target[1:].reshape(-1)\n",
        "        loss = criterion(output1, target1)\n",
        "        output3=crite_rion+1\n",
        "        loss.backward()\n",
        "        target_vocab_size=58\n",
        "        torch.nn.utils.clip_grad_norm_(model.parameters(), max_norm=1)\n",
        "\n",
        "        optimizer.step()\n",
        "\n",
        "        train_loss =train_loss + loss.item()\n",
        "        predict = F.softmax(output, dim=1)\n",
        "        predictionss = torch.argmax(predict, dim=2)\n",
        "        num_correct_train_char =  num_correct_train_char + (predictionss == target).sum().item()\n",
        "\n",
        "    train_accuracy_char = (num_correct_train_char/(len(data_loader)*batch_size*20))\n",
        "    train_accuracy_char=train_accuracy_char*100\n",
        "    train_loss = (train_loss/(len(data_loader)*batch_size))\n",
        "    train_loss=train_loss*100\n",
        "\n",
        "    return train_loss, train_accuracy_char"
      ]
    },
    {
      "cell_type": "code",
      "execution_count": 31,
      "metadata": {
        "execution": {
          "iopub.execute_input": "2024-05-05T03:32:21.474879Z",
          "iopub.status.busy": "2024-05-05T03:32:21.473912Z",
          "iopub.status.idle": "2024-05-05T03:32:21.488131Z",
          "shell.execute_reply": "2024-05-05T03:32:21.487160Z",
          "shell.execute_reply.started": "2024-05-05T03:32:21.474844Z"
        },
        "id": "arfse1ilb_n1",
        "trusted": true
      },
      "outputs": [],
      "source": [
        "# Validation function\n",
        "def evaluate_best_final(model, data_loader, criterion, device, batch_size , index_to_char_target):\n",
        "    model.eval()\n",
        "    val_loss = 0.0\n",
        "    val_l_oss=[]\n",
        "    num_correct_val_char = 0\n",
        "    train_l_oss=[]\n",
        "    num_correct_val_word = 0\n",
        "\n",
        "    with torch.no_grad():\n",
        "        for i, (inputs, target) in enumerate(data_test):\n",
        "            inputs=inputs.to(device)\n",
        "            crite_rion=0\n",
        "            target=target.to(device)\n",
        "\n",
        "            output = model.prediction(inputs)\n",
        "            output=torch.permute(output,(1,0,2))\n",
        "            output1=output[1:].reshape(-1,output.shape[2])\n",
        "            output2=crite_rion+1\n",
        "            target1=target[1:].reshape(-1)\n",
        "            loss = criterion(output1, target1)\n",
        "            val_loss = val_loss +  loss.item()\n",
        "\n",
        "            predictionss=torch.argmax(output,dim=2)\n",
        "            num_correct_val_char = num_correct_val_char + (predictionss == target).sum().item()\n",
        "\n",
        "            for j in range(len(predictionss)):\n",
        "              predicted_sentence = ''\n",
        "              target_sentence = ''\n",
        "              for k in range(len(predictionss[j])):\n",
        "                  if (predictionss[j][k].item()!=55):\n",
        "                    if(predictionss[j][k].item()!=56):\n",
        "                      if(predictionss[j][k].item()!=57):\n",
        "                        predicted_sentence = predicted_sentence + index_to_char_target[predictionss[j][k].item()]\n",
        "                  if (target[j][k].item()!=55):\n",
        "                    if(target[j][k].item()!=56):\n",
        "                      if(target[j][k].item()!=57):\n",
        "                        target_sentence = target_sentence +  index_to_char_target[target[j][k].item()]\n",
        "              if predicted_sentence==target_sentence:\n",
        "                  num_correct_val_word= num_correct_val_word + 1\n",
        "\n",
        "        val_accuracy_char=(num_correct_val_char/(len(data_test)*batch_size*20))\n",
        "        val_loss=(val_loss/(len(data_test)*batch_size))\n",
        "        val_accuracy_char=val_accuracy_char*100\n",
        "        val_loss=val_loss*100\n",
        "        val_accuracy_word=(num_correct_val_word/(len(data_test)*batch_size))\n",
        "        val_accuracy_word=val_accuracy_word*100\n",
        "\n",
        "    return val_loss, val_accuracy_char, val_accuracy_word"
      ]
    },
    {
      "cell_type": "code",
      "execution_count": 32,
      "metadata": {
        "execution": {
          "iopub.execute_input": "2024-05-05T03:33:36.151867Z",
          "iopub.status.busy": "2024-05-05T03:33:36.150910Z",
          "iopub.status.idle": "2024-05-05T03:33:36.160006Z",
          "shell.execute_reply": "2024-05-05T03:33:36.159144Z",
          "shell.execute_reply.started": "2024-05-05T03:33:36.151831Z"
        },
        "id": "0KSXRQKZb_n1",
        "trusted": true
      },
      "outputs": [],
      "source": [
        "def build_best_model_final(config):\n",
        "\n",
        "    input_vocab_size=29\n",
        "    cell_type = config.cell_type\n",
        "\n",
        "    encoder_embedding_size = config.embedding_size\n",
        "    epochs = config.epochs\n",
        "    input_size_decoder=20\n",
        "    decoder_embedding_size = config.embedding_size\n",
        "    input_size_encoder=28\n",
        "\n",
        "    dec_dropout = config.dropout\n",
        "    num_encoder_layers = config.num_encoder_layer\n",
        "    learning_rate = config.learning_rate\n",
        "    num_decoder_layers = config.num_encoder_layer\n",
        "    output_vocab_size=55\n",
        "    enc_dropout = config.dropout\n",
        "    bidirection = config.bidirection\n",
        "    hidden_size = config.hidden_layer_size\n",
        "\n",
        "    run_name=\"ct_{}_ees_{}_lr_{}_des_{}_hs_{}_el_{}_dl_{}_ed_{}_dd_{}_bd_{}_ep_{}\".format(cell_type , encoder_embedding_size,learning_rate , decoder_embedding_size,hidden_size,num_encoder_layers,num_decoder_layers,enc_dropout,dec_dropout,bidirection, epochs)\n",
        "    # print(\"run_name:\",run_name)\n",
        "\n",
        "    encoder_net=Encoder(input_size_encoder,encoder_embedding_size,hidden_size,num_encoder_layers,enc_dropout,input_vocab_size,bidirection,'GRU').to(device)\n",
        "    print(\"run_name:\",run_name)\n",
        "    decoder_net=Decoder_Attn(input_size_decoder,decoder_embedding_size,hidden_size,output_vocab_size,num_decoder_layers,dec_dropout,bidirection,'GRU').to(device)\n",
        "\n",
        "    # Create Seq2Seq model\n",
        "    model = seq2seq(encoder_net, decoder_net).to(device)\n",
        "    return model , run_name\n"
      ]
    },
    {
      "cell_type": "code",
      "execution_count": 33,
      "metadata": {
        "execution": {
          "iopub.execute_input": "2024-05-05T03:32:22.804674Z",
          "iopub.status.busy": "2024-05-05T03:32:22.803840Z",
          "iopub.status.idle": "2024-05-05T03:32:22.815869Z",
          "shell.execute_reply": "2024-05-05T03:32:22.814864Z",
          "shell.execute_reply.started": "2024-05-05T03:32:22.804639Z"
        },
        "id": "liPH-71Lb_n2",
        "trusted": true
      },
      "outputs": [],
      "source": [
        "# Main training loop\n",
        "def train_loop_best_final(val_Acc_char , model, train_loader, val_loader, criterion, optimizer, device, config, index_to_char_target, run_name , batch_size , val_Acc_word ,train_Acc_char , val_Loss , train_Loss):\n",
        "\n",
        "\n",
        "    for epoch in range(config.epochs):\n",
        "        train_loss, train_accuracy_char = train_best_final(model, train_loader, criterion, optimizer, device , batch_size)\n",
        "        val_loss, val_accuracy_char, val_accuracy_word = evaluate_best_final(model, val_loader, criterion, device,batch_size, index_to_char_target)\n",
        "\n",
        "        train_Loss.append(train_loss)\n",
        "        train_Acc_char.append(train_accuracy_char)\n",
        "        val_Loss.append(val_loss)\n",
        "        val_Acc_char.append(val_accuracy_char)\n",
        "        val_Acc_word.append(val_accuracy_word)\n",
        "\n",
        "        print(f'Epoch [{epoch + 1}/{config.epochs}]')\n",
        "\n",
        "        print(\"train_accuracy_char:\",train_accuracy_char)\n",
        "        print(\"train_loss:\",train_loss)\n",
        "        print(\"val_accuracy_word:\",val_accuracy_word)\n",
        "        print(\"val_loss:\", val_loss)\n",
        "        print(\"\")\n",
        "\n",
        "        # Logging using Weights & Biases\n",
        "        wandb_log_final(train_accuracy_char ,  train_loss , val_accuracy_word ,val_loss)\n",
        "\n",
        "\n",
        "    print(\"train_accuracy_char:\", np.max(train_Acc_char))\n",
        "    print(\"train_loss:\", np.min(train_Loss))\n",
        "    print(\"val_accuracy_word:\", np.max(val_Acc_word))\n",
        "    print(\"val_loss:\", np.min(val_Loss))\n",
        "\n",
        "    wandb.run.name = run_name\n",
        "    wandb.run.save()\n",
        "    wandb.run.finish()"
      ]
    },
    {
      "cell_type": "code",
      "execution_count": 34,
      "metadata": {
        "execution": {
          "iopub.execute_input": "2024-05-05T03:32:23.316840Z",
          "iopub.status.busy": "2024-05-05T03:32:23.316229Z",
          "iopub.status.idle": "2024-05-05T03:32:23.323402Z",
          "shell.execute_reply": "2024-05-05T03:32:23.322314Z",
          "shell.execute_reply.started": "2024-05-05T03:32:23.316808Z"
        },
        "id": "dSU_jccBb_n2",
        "trusted": true
      },
      "outputs": [],
      "source": [
        "def train_final():\n",
        "    initialize_wandb()\n",
        "    val_Acc_char=[]\n",
        "    batch_size = 64\n",
        "    val_Loss=[]\n",
        "    load_model = True\n",
        "    train_Acc_char=[]\n",
        "    config = wandb.config\n",
        "    model,run_name = build_best_model_final(config)\n",
        "    optimizer = optim.Adam(model.parameters(), lr=0.0001)\n",
        "    criterion=nn.CrossEntropyLoss()\n",
        "    train_Loss=[]\n",
        "    best_accuracy=0\n",
        "    val_Acc_word = []\n",
        "    train_loop_best_final(val_Acc_char , model, data_train, data_val, criterion, optimizer, device, config, index_to_char_target, run_name , batch_size ,val_Acc_word , train_Acc_char , val_Loss , train_Loss)"
      ]
    },
    {
      "cell_type": "code",
      "execution_count": 35,
      "metadata": {
        "execution": {
          "iopub.execute_input": "2024-05-05T03:56:26.758645Z",
          "iopub.status.busy": "2024-05-05T03:56:26.758245Z",
          "iopub.status.idle": "2024-05-05T03:57:30.736766Z",
          "shell.execute_reply": "2024-05-05T03:57:30.735532Z",
          "shell.execute_reply.started": "2024-05-05T03:56:26.758614Z"
        },
        "id": "6Y8ivfzdb_n2",
        "trusted": true
      },
      "outputs": [],
      "source": [
        "# sweep_id=wandb.sweep(sweep=sweep_configuration,entity=\"cs23m013\",project='DL_A3_Attn')\n",
        "# wandb.agent(sweep_id,function=train_final,count=1)\n",
        "# wandb.finish()"
      ]
    },
    {
      "cell_type": "markdown",
      "metadata": {
        "id": "MvplqhNKvI0L"
      },
      "source": [
        "#Train with Best parameters"
      ]
    },
    {
      "cell_type": "code",
      "execution_count": 36,
      "metadata": {
        "execution": {
          "iopub.execute_input": "2024-05-05T03:57:46.105337Z",
          "iopub.status.busy": "2024-05-05T03:57:46.104602Z",
          "iopub.status.idle": "2024-05-05T03:57:46.114650Z",
          "shell.execute_reply": "2024-05-05T03:57:46.113677Z",
          "shell.execute_reply.started": "2024-05-05T03:57:46.105305Z"
        },
        "id": "1usWJPScb_n2",
        "trusted": true
      },
      "outputs": [],
      "source": [
        "def train_best(model, data_loader, criterion, optimizer, device, batch_size):\n",
        "    model.train()\n",
        "    train_loss = 0.0\n",
        "    num_correct_train_char = 0\n",
        "\n",
        "    for inputs, target in data_loader:\n",
        "        inputs = inputs.to(device)\n",
        "        target = target.to(device)\n",
        "        optimizer.zero_grad()\n",
        "\n",
        "        output = model(inputs, target)\n",
        "        output = torch.permute(output, (1, 0, 2))\n",
        "        output1 = output[1:].reshape(-1, output.shape[2])\n",
        "\n",
        "        target1 = target[1:].reshape(-1)\n",
        "\n",
        "        loss = criterion(output1, target1)\n",
        "        loss.backward()\n",
        "        torch.nn.utils.clip_grad_norm_(model.parameters(), max_norm=1)\n",
        "        optimizer.step()\n",
        "\n",
        "        train_loss += loss.item()\n",
        "        predict = F.softmax(output, dim=1)\n",
        "        predictionss = torch.argmax(predict, dim=2)\n",
        "\n",
        "        num_correct_train_char += (predictionss == target).sum().item()\n",
        "\n",
        "    train_accuracy_char = (num_correct_train_char/(len(data_loader)*batch_size*20))*100\n",
        "    train_loss = (train_loss/(len(data_loader)*batch_size))*100\n",
        "\n",
        "    return train_loss, train_accuracy_char\n"
      ]
    },
    {
      "cell_type": "code",
      "execution_count": 37,
      "metadata": {
        "execution": {
          "iopub.execute_input": "2024-05-05T03:57:47.353761Z",
          "iopub.status.busy": "2024-05-05T03:57:47.353342Z",
          "iopub.status.idle": "2024-05-05T03:57:47.366865Z",
          "shell.execute_reply": "2024-05-05T03:57:47.365974Z",
          "shell.execute_reply.started": "2024-05-05T03:57:47.353727Z"
        },
        "id": "tNfuCBHgb_n2",
        "trusted": true
      },
      "outputs": [],
      "source": [
        "\n",
        "# Validation function\n",
        "def evaluate_best(model, data_loader, criterion, device, batch_size , index_to_char_target):\n",
        "    model.eval()\n",
        "    val_loss = 0.0\n",
        "    num_correct_val_char = 0\n",
        "    num_correct_val_word = 0\n",
        "\n",
        "    with torch.no_grad():\n",
        "        for i, (inputs, target) in enumerate(data_test):\n",
        "            inputs=inputs.to(device)\n",
        "            target=target.to(device)\n",
        "            output = model.prediction(inputs)\n",
        "            output=torch.permute(output,(1,0,2))\n",
        "            output1=output[1:].reshape(-1,output.shape[2])\n",
        "            target1=target[1:].reshape(-1)\n",
        "            loss = criterion(output1, target1)\n",
        "            val_loss += loss.item()\n",
        "            predictionss=torch.argmax(output,dim=2)\n",
        "            num_correct_val_char += (predictionss == target).sum().item()\n",
        "\n",
        "            for j in range(len(predictionss)):\n",
        "                predicted_sentence = ''\n",
        "                target_sentence = ''\n",
        "                for k in range(len(predictionss[j])):\n",
        "                    if (predictionss[j][k].item()!=55 and predictionss[j][k].item()!=56 and predictionss[j][k].item()!=57):\n",
        "                        predicted_sentence += index_to_char_target[predictionss[j][k].item()]\n",
        "                    if (target[j][k].item()!=55 and target[j][k].item()!=56 and target[j][k].item()!=57 ):\n",
        "                        target_sentence += index_to_char_target[target[j][k].item()]\n",
        "                if predicted_sentence==target_sentence:\n",
        "                    num_correct_val_word+=1\n",
        "\n",
        "        val_loss=(val_loss/(len(data_test)*batch_size))*100\n",
        "        val_accuracy_char=(num_correct_val_char/(len(data_test)*batch_size*20))*100\n",
        "        val_accuracy_word=(num_correct_val_word/(len(data_test)*batch_size))*100\n",
        "\n",
        "    return val_loss, val_accuracy_char, val_accuracy_word"
      ]
    },
    {
      "cell_type": "code",
      "execution_count": 38,
      "metadata": {
        "execution": {
          "iopub.execute_input": "2024-05-05T03:57:48.368041Z",
          "iopub.status.busy": "2024-05-05T03:57:48.367186Z",
          "iopub.status.idle": "2024-05-05T03:57:48.375100Z",
          "shell.execute_reply": "2024-05-05T03:57:48.374130Z",
          "shell.execute_reply.started": "2024-05-05T03:57:48.368008Z"
        },
        "id": "W1Kd_hiJb_n2",
        "trusted": true
      },
      "outputs": [],
      "source": [
        "def build_best_model():\n",
        "\n",
        "    batch_size=64\n",
        "    load_model=True\n",
        "    epochs=1\n",
        "    learning_rate=0.0001\n",
        "    input_size_encoder=28\n",
        "    input_size_decoder=20\n",
        "    input_vocab_size=29\n",
        "    output_vocab_size=55\n",
        "    cell_type='GRU'\n",
        "    encoder_embedding_size=256\n",
        "    decoder_embedding_size=256\n",
        "    hidden_size=512\n",
        "    num_encoder_layers=2\n",
        "    num_decoder_layers=2\n",
        "    enc_dropout=0.3\n",
        "    dec_dropout=0.3\n",
        "    bidirection=True\n",
        "\n",
        "\n",
        "    encoder_net=Encoder(input_size_encoder,encoder_embedding_size,hidden_size,num_encoder_layers,enc_dropout,input_vocab_size,bidirection,cell_type).to(device)\n",
        "    decoder_net=Decoder_Attn(input_size_decoder,decoder_embedding_size,hidden_size,output_vocab_size,num_decoder_layers,dec_dropout,bidirection,cell_type).to(device)\n",
        "\n",
        "    # Create Seq2Seq model\n",
        "    model = seq2seq(encoder_net, decoder_net).to(device)\n",
        "\n",
        "    return model"
      ]
    },
    {
      "cell_type": "code",
      "execution_count": 39,
      "metadata": {
        "execution": {
          "iopub.execute_input": "2024-05-05T03:57:49.071557Z",
          "iopub.status.busy": "2024-05-05T03:57:49.071211Z",
          "iopub.status.idle": "2024-05-05T03:57:49.085649Z",
          "shell.execute_reply": "2024-05-05T03:57:49.084686Z",
          "shell.execute_reply.started": "2024-05-05T03:57:49.071531Z"
        },
        "id": "GxNCU_lfb_n2",
        "trusted": true
      },
      "outputs": [],
      "source": [
        "# Main training loop\n",
        "def train_loop_best(model, train_loader, val_loader, criterion, optimizer, device, index_to_char_target , best_accuracy):\n",
        "    batch_size=64\n",
        "    load_model=True\n",
        "    epochs=1\n",
        "    learning_rate=0.0001\n",
        "    input_size_encoder=28\n",
        "    input_size_decoder=20\n",
        "    input_vocab_size=29\n",
        "    output_vocab_size=55\n",
        "    cell_type='GRU'\n",
        "    encoder_embedding_size=256\n",
        "    decoder_embedding_size=256\n",
        "    hidden_size=512\n",
        "    num_encoder_layers=2\n",
        "    num_decoder_layers=2\n",
        "    enc_dropout=0.3\n",
        "    dec_dropout=0.3\n",
        "    bidirection=True\n",
        "\n",
        "    val_Loss = []\n",
        "    train_Loss = []\n",
        "    val_Acc_char = []\n",
        "    val_Acc_word = []\n",
        "    train_Acc_char = []\n",
        "\n",
        "    for epoch in range(epochs):\n",
        "        train_loss, train_accuracy_char = train_best(model, train_loader, criterion, optimizer, device , batch_size)\n",
        "        val_loss, val_accuracy_char, val_accuracy_word = evaluate_best(model, val_loader, criterion, device,batch_size, index_to_char_target)\n",
        "\n",
        "        train_Loss.append(train_loss)\n",
        "        train_Acc_char.append(train_accuracy_char)\n",
        "        val_Loss.append(val_loss)\n",
        "        val_Acc_char.append(val_accuracy_char)\n",
        "        val_Acc_word.append(val_accuracy_word)\n",
        "\n",
        "        print(f'Epoch [{epoch + 1}/{epochs}]')\n",
        "\n",
        "        print(\"train_accuracy_char:\",train_accuracy_char)\n",
        "        print(\"train_loss:\",train_loss)\n",
        "        print(\"val_accuracy_word:\",val_accuracy_word)\n",
        "        print(\"val_loss:\", val_loss)\n",
        "        print(\"\")\n",
        "\n",
        "        if val_accuracy_char>best_accuracy:\n",
        "            torch.save(model.state_dict(),'best_checkpoint.model')\n",
        "            model_wts=copy.deepcopy(model.state_dict())\n",
        "            best_accuracy=val_accuracy_char\n",
        "\n",
        "\n",
        "    print(\"train_accuracy_char:\", np.max(train_Acc_char))\n",
        "    print(\"train_loss:\", np.min(train_Loss))\n",
        "    print(\"val_accuracy_word:\", np.max(val_Acc_word))\n",
        "    print(\"val_loss:\", np.min(val_Loss))\n",
        "\n",
        "    plt.plot(train_Loss, 'r', label=\"Training loss\")\n",
        "    plt.plot(val_Loss, 'lime', label=\"Validation loss\")\n",
        "    plt.title(\"Training and Validation Loss vs Number of Epochs\", size=15)\n",
        "    plt.xlabel(\"Number of epochs\", size=15)\n",
        "    plt.ylabel(\"Loss\", size=15)\n",
        "    plt.legend()\n",
        "    plt.show()\n",
        "    plt.plot(train_Acc_char, 'r', label=\"Training Accuracy char\")\n",
        "    plt.plot(val_Acc_word ,'lime', label=\"Validation Accuracy word\")\n",
        "    plt.plot(val_Acc_char ,'b', label=\"Validation Accuracy char\")\n",
        "    plt.title(\"Training and Validation Accuracy vs Number of Epochs\", size=15)\n",
        "    plt.xlabel(\"Number of epochs\", size=15)\n",
        "    plt.ylabel(\"Accuracy\", size=15)\n",
        "    plt.legend()\n",
        "    plt.show()\n",
        "\n",
        "    model.load_state_dict(model_wts)\n",
        "    return model"
      ]
    },
    {
      "cell_type": "code",
      "execution_count": 40,
      "metadata": {
        "execution": {
          "iopub.execute_input": "2024-05-05T03:57:50.057800Z",
          "iopub.status.busy": "2024-05-05T03:57:50.057115Z",
          "iopub.status.idle": "2024-05-05T03:57:50.062857Z",
          "shell.execute_reply": "2024-05-05T03:57:50.061877Z",
          "shell.execute_reply.started": "2024-05-05T03:57:50.057769Z"
        },
        "id": "ugKLjHqErkYW",
        "trusted": true
      },
      "outputs": [],
      "source": [
        "def train_best_model():\n",
        "    model = build_best_model()\n",
        "    optimizer = optim.Adam(model.parameters(), lr=0.0001)\n",
        "    criterion=nn.CrossEntropyLoss()\n",
        "    best_accuracy=0\n",
        "    return train_loop_best(model, data_train, data_val, criterion, optimizer, device, index_to_char_target , best_accuracy)"
      ]
    },
    {
      "cell_type": "code",
      "execution_count": 41,
      "metadata": {
        "colab": {
          "base_uri": "https://localhost:8080/",
          "height": 1000
        },
        "execution": {
          "iopub.execute_input": "2024-05-05T03:57:50.726950Z",
          "iopub.status.busy": "2024-05-05T03:57:50.726373Z",
          "iopub.status.idle": "2024-05-05T03:59:16.274093Z",
          "shell.execute_reply": "2024-05-05T03:59:16.273170Z",
          "shell.execute_reply.started": "2024-05-05T03:57:50.726911Z"
        },
        "id": "URKTZi-2rkRv",
        "outputId": "b72ec7a3-184d-4a5c-d414-84d5bb35c8b1",
        "trusted": true
      },
      "outputs": [
        {
          "name": "stdout",
          "output_type": "stream",
          "text": [
            "Epoch [1/1]\n",
            "train_accuracy_char: 50.36640625\n",
            "train_loss: 1.2996846989844926\n",
            "val_accuracy_word: 13.134765625\n",
            "val_loss: 0.9006804575619753\n",
            "\n",
            "train_accuracy_char: 50.36640625\n",
            "train_loss: 1.2996846989844926\n",
            "val_accuracy_word: 13.134765625\n",
            "val_loss: 0.9006804575619753\n"
          ]
        },
        {
          "data": {
            "image/png": "[encoded data removed]",
            "text/plain": [
              "<Figure size 640x480 with 1 Axes>"
            ]
          },
          "metadata": {},
          "output_type": "display_data"
        },
        {
          "data": {
            "image/png": "[encoded data removed]",
            "text/plain": [
              "<Figure size 640x480 with 1 Axes>"
            ]
          },
          "metadata": {},
          "output_type": "display_data"
        }
      ],
      "source": [
        "best_model=train_best_model()"
      ]
    },
    {
      "cell_type": "markdown",
      "metadata": {
        "id": "zl9CkH_arXqh"
      },
      "source": [
        "# Predicting word by trained model and saving in csv file"
      ]
    },
    {
      "cell_type": "code",
      "execution_count": 42,
      "metadata": {
        "colab": {
          "base_uri": "https://localhost:8080/",
          "height": 0
        },
        "execution": {
          "iopub.execute_input": "2024-05-05T03:59:24.424354Z",
          "iopub.status.busy": "2024-05-05T03:59:24.423314Z",
          "iopub.status.idle": "2024-05-05T03:59:32.778563Z",
          "shell.execute_reply": "2024-05-05T03:59:32.777443Z",
          "shell.execute_reply.started": "2024-05-05T03:59:24.424319Z"
        },
        "id": "vkXIvDG1rkHr",
        "outputId": "0f42bd16-9db0-4c26-cb87-4f4f3b9ff22e",
        "trusted": true
      },
      "outputs": [
        {
          "name": "stdout",
          "output_type": "stream",
          "text": [
            "      Source Predicted    Target\n",
            "0        NaN    सिखागा   सिखाएगा\n",
            "1        NaN      लारन       लरन\n",
            "2        NaN    तिियरस    टविटरस\n",
            "3        NaN   तिरणलवी  तिरनलवली\n",
            "4        NaN    इडनपीक    इडिपडस\n",
            "...      ...       ...       ...\n",
            "4090     NaN     सललथा     सफलता\n",
            "4091     NaN     शबनना     शबाना\n",
            "4092     NaN   खौटोपाओ   खातटोला\n",
            "4093     NaN   शिवासता   शिवासतव\n",
            "4094     NaN   परणणजयी  पररणापरी\n",
            "\n",
            "[4095 rows x 3 columns]\n"
          ]
        }
      ],
      "source": [
        "prediction_out_list=[]\n",
        "correct_prediction_out_list=[]\n",
        "\n",
        "for i, (inputs, target) in enumerate(data_test):\n",
        "    inputs=inputs.to(device)\n",
        "    target=target.to(device)\n",
        "    output = best_model.prediction(inputs)\n",
        "    output=torch.permute(output,(1,0,2))\n",
        "    predict=F.softmax(output,dim=1)\n",
        "    predictionss=torch.argmax(predict,dim=2)\n",
        "\n",
        "    for j in range(len(predictionss)):\n",
        "        predicted_word = ''\n",
        "        target_word = ''\n",
        "        source_word=''\n",
        "\n",
        "        for k in range(len(target[j])):\n",
        "            if (target[j][k].item()!=55  and target[j][k].item()!=57):\n",
        "                if target[j][k].item()!=56:\n",
        "                    target_word += index_to_char_target[target[j][k].item()]\n",
        "                else:\n",
        "                    break\n",
        "\n",
        "        for k in range(len(inputs[j])):\n",
        "            if (inputs[j][k].item()!=26  and inputs[j][k].item()!=28):\n",
        "                if inputs[j][k].item()!=27:\n",
        "                    source_word+=index_to_char_src[inputs[j][k].item()]\n",
        "                else:\n",
        "                    break\n",
        "\n",
        "\n",
        "        for k in range(len(predictionss[j])):\n",
        "            if (predictionss[j][k].item()!=55  and predictionss[j][k].item()!=57):\n",
        "                if predictionss[j][k] != 56:\n",
        "                    predicted_word += index_to_char_target[predictionss[j][k].item()]\n",
        "                else:\n",
        "                    break\n",
        "\n",
        "        prediction_out_list.append([source_word,predicted_word,target_word])\n",
        "\n",
        "        if (predicted_word==target_word):\n",
        "            correct_prediction_out_list.append([source_word,predicted_word,target_word])\n",
        "\n",
        "\n",
        "#---------------------------\n",
        "\n",
        "files= pd.DataFrame(np.array(prediction_out_list),columns = [\"Source\",\"Predicted\",\"Target\"])\n",
        "files.to_csv(\"Prediction.csv\", index = False)\n",
        "\n",
        "#----------------------------\n",
        "\n",
        "# reading the csv file\n",
        "cvsDataframe = pd.read_csv('Prediction.csv')\n",
        "\n",
        "# creating an output excel file\n",
        "resultExcelFile = pd.ExcelWriter('Result.xlsx')\n",
        "\n",
        "# converting the csv file to an excel file\n",
        "cvsDataframe.to_excel(resultExcelFile, index=False)\n",
        "\n",
        "# saving the excel file\n",
        "resultExcelFile.close()\n",
        "\n",
        "# Reading and Converting the output/result excel file into a dataframe object\n",
        "excelDataframe=pd.read_excel('Result.xlsx')\n",
        "\n",
        "print(excelDataframe)"
      ]
    },
    {
      "cell_type": "code",
      "execution_count": 44,
      "metadata": {
        "colab": {
          "base_uri": "https://localhost:8080/",
          "height": 0
        },
        "execution": {
          "iopub.execute_input": "2024-05-05T04:00:10.501669Z",
          "iopub.status.busy": "2024-05-05T04:00:10.500718Z",
          "iopub.status.idle": "2024-05-05T04:00:11.057524Z",
          "shell.execute_reply": "2024-05-05T04:00:11.056445Z",
          "shell.execute_reply.started": "2024-05-05T04:00:10.501637Z"
        },
        "id": "ATM9bULuREMt",
        "outputId": "f07fc492-0b49-44a2-ae57-2907ba07dad0",
        "trusted": true
      },
      "outputs": [
        {
          "data": {
            "text/plain": [
              "ArtifactManifestEntry(path='Prediction.csv', digest='m5ImITkm0cDV29HlyNKKVg==', size=147819, local_path='/root/.local/share/wandb/artifacts/staging/tmpoxzgze30', skip_cache=False)"
            ]
          },
          "execution_count": 44,
          "metadata": {},
          "output_type": "execute_result"
        }
      ],
      "source": [
        "# Load the CSV file\n",
        "predicted_data = pd.read_csv(\"/content/Prediction.csv\")\n",
        "Prediction_table = wandb.Table(dataframe=predicted_data)\n",
        "\n",
        "# Add the table to an Artifact to increase the row\n",
        "# limit to 200000 and make it easier to reuse\n",
        "data_table_artifact = wandb.Artifact(\n",
        "    \"predictions_vanilla\", type=\"dataset\")\n",
        "\n",
        "data_table_artifact.add(Prediction_table,\"Correct_Predictions\")\n",
        "\n",
        "# Log the raw csv file within an artifact to preserve our data\n",
        "data_table_artifact.add_file(\"/content/Prediction.csv\")\n"
      ]
    },
    {
      "cell_type": "code",
      "execution_count": null,
      "metadata": {
        "execution": {
          "iopub.execute_input": "2024-05-05T04:00:40.706108Z",
          "iopub.status.busy": "2024-05-05T04:00:40.705363Z",
          "iopub.status.idle": "2024-05-05T04:00:57.800440Z",
          "shell.execute_reply": "2024-05-05T04:00:57.799325Z",
          "shell.execute_reply.started": "2024-05-05T04:00:40.706061Z"
        },
        "id": "-uVikFuOREMt",
        "trusted": true
      },
      "outputs": [],
      "source": [
        "run = wandb.init(project='DL_A3_Attn')\n",
        "# Log the table to visualize with a run...\n",
        "run.log({\"Correct_Predictions_Table\": Prediction_table})\n",
        "\n",
        "# and Log as an Artifact to increase the available row limit!\n",
        "run.log_artifact(data_table_artifact)\n"
      ]
    },
    {
      "cell_type": "markdown",
      "metadata": {},
      "source": [
        "# HeatMap"
      ]
    },
    {
      "cell_type": "code",
      "execution_count": null,
      "metadata": {
        "id": "AWRFB6jlREMu"
      },
      "outputs": [],
      "source": [
        "# def plot_attention_weights(input_sequence, output_sequence, encoder_model, decoder_model):\n",
        "#     enc_input = np.array([input_sequence])\n",
        "#     enc_output, enc_state_h, enc_state_c = encoder_model.predict(enc_input)\n",
        "    \n",
        "#     dec_input = np.array([[output_sequence[0]]])  # start decoding with the start token\n",
        "#     attention_weights = []\n",
        "    \n",
        "#     for t in range(1, len(output_sequence)):\n",
        "#         dec_output, attention, dec_state_h, dec_state_c = decoder_model.predict([dec_input, enc_output, enc_state_h, enc_state_c])\n",
        "#         attention_weights.append(attention.flatten())\n",
        "#         predicted_token = np.argmax(dec_output, axis=-1)\n",
        "#         dec_input = np.array([[predicted_token[0][0]]])  # feed the predicted token as input to the next time step\n",
        "    \n",
        "#     attention_weights = np.array(attention_weights)\n",
        "    \n",
        "#     plt.figure(figsize=(10, 5))\n",
        "#     plt.imshow(attention_weights.T, cmap='viridis')\n",
        "#     plt.xlabel('Decoder timestep')\n",
        "#     plt.ylabel('Encoder timestep')\n",
        "#     plt.title('Attention Heatmap')\n",
        "#     plt.colorbar()\n",
        "#     plt.show()\n",
        "\n",
        "\n",
        "# for i in range(9):\n",
        "#     input_seq = df_test.iloc[i, 0][:-1]  # Extract input sequence from DataFrame\n",
        "#     output_seq = df_test.iloc[i, 1][:-1]\n",
        "#     predicted_output, attention = predict(model, input_seq, input_char_to_int, output_char_to_int, output_int_to_char)\n",
        "#     attention = attention[:, :, :(len(input_seq))]\n",
        "#     inputs.append(input_seq)\n",
        "#     outputs.append(output_seq)\n",
        "#     attentions.append(attention)\n",
        "\n",
        "# encoder_net=Encoder(input_size_encoder,encoder_embedding_size,hidden_size,num_encoder_layers,enc_dropout,input_vocab_size,bidirection,cell_type).to(device)\n",
        "# decoder_net=Decoder_Attn(input_size_decoder,decoder_embedding_size,hidden_size,output_vocab_size,num_decoder_layers,dec_dropout,bidirection,cell_type).to(device)\n",
        "\n",
        "# decoder_state_inputs = [Input(shape=(hidden_units,)), Input(shape=(hidden_units,))]\n",
        "# decoder_outputs, attention, state_h, state_c = decoder_lstm(decoder_embedding, initial_state=decoder_state_inputs)\n",
        "\n",
        "# plot_attention_weights(input_sequence, output_sequence, encoder_model, decoder_model)\n"
      ]
    }
  ],
  "metadata": {
    "accelerator": "GPU",
    "colab": {
      "gpuType": "T4",
      "provenance": []
    },
    "kaggle": {
      "accelerator": "nvidiaTeslaT4",
      "dataSources": [
        {
          "datasetId": 4852942,
          "sourceId": 8193773,
          "sourceType": "datasetVersion"
        },
        {
          "datasetId": 4878019,
          "sourceId": 8226678,
          "sourceType": "datasetVersion"
        },
        {
          "datasetId": 4878064,
          "sourceId": 8226741,
          "sourceType": "datasetVersion"
        }
      ],
      "dockerImageVersionId": 30699,
      "isGpuEnabled": true,
      "isInternetEnabled": true,
      "language": "python",
      "sourceType": "notebook"
    },
    "kernelspec": {
      "display_name": "Python 3",
      "name": "python3"
    },
    "language_info": {
      "codemirror_mode": {
        "name": "ipython",
        "version": 3
      },
      "file_extension": ".py",
      "mimetype": "text/x-python",
      "name": "python",
      "nbconvert_exporter": "python",
      "pygments_lexer": "ipython3",
      "version": "3.10.13"
    }
  },
  "nbformat": 4,
  "nbformat_minor": 0
}
